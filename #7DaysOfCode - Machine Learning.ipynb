{
 "cells": [
  {
   "cell_type": "markdown",
   "id": "102a06da",
   "metadata": {},
   "source": [
    "# #7DaysOfCode - Machine Learning\n"
   ]
  },
  {
   "cell_type": "markdown",
   "id": "b446cf17",
   "metadata": {},
   "source": [
    "####  In this #7DaysOfCode, my goal will be to analyze Spotify data and apply Machine Learning techniques to predict song popularity. \n",
    "\n",
    "* In addition, I will also be able to use my data manipulation, visualization, and analysis skills using the Python language.\n",
    "* Machine Learning is a technique that allows an algorithm to “learn” to perform a specific task from data. This means that, instead of programming specific rules for each situation, we can teach a model to recognize patterns in the data and make decisions based on those patterns."
   ]
  },
  {
   "cell_type": "markdown",
   "id": "c124ba8b",
   "metadata": {},
   "source": [
    "## Import libraries"
   ]
  },
  {
   "cell_type": "code",
   "execution_count": 78,
   "id": "2fe3a3d7",
   "metadata": {},
   "outputs": [],
   "source": [
    "import pandas as pd\n",
    "import numpy as np\n",
    "import seaborn as sns\n",
    "import matplotlib.pyplot as plt\n",
    "import matplotlib as mpl\n",
    "import matplotlib.patches as mpatches\n",
    "\n",
    "import numpy as np\n",
    "from numpy import random\n",
    "\n",
    "# Improve visualization\n",
    "%matplotlib inline\n",
    "mpl.style.use('ggplot')\n",
    "plt.style.use('fivethirtyeight')\n",
    "sns.set(context='notebook', palette='dark', color_codes=True)\n",
    "\n",
    "# Models\n",
    "from sklearn.model_selection import train_test_split\n",
    "from sklearn.model_selection import StratifiedKFold\n",
    "from sklearn.tree import DecisionTreeClassifier\n",
    "from sklearn.neighbors import KNeighborsClassifier\n",
    "from sklearn.linear_model import LogisticRegression\n",
    "from sklearn.ensemble import RandomForestClassifier\n",
    "from sklearn.model_selection import cross_val_score\n",
    "from sklearn.model_selection import cross_val_predict\n",
    "from sklearn.model_selection import RandomizedSearchCV\n",
    "from sklearn.metrics import confusion_matrix\n",
    "\n",
    "# Evaluation metrics\n",
    "from sklearn.metrics import precision_recall_curve, average_precision_score, confusion_matrix, auc, roc_curve\n",
    "from sklearn.metrics import precision_score, recall_score, f1_score, roc_auc_score, accuracy_score, classification_report\n",
    "\n",
    "# Data resampling\n",
    "from imblearn.over_sampling import SMOTE, RandomOverSampler\n",
    "from imblearn.under_sampling import NearMiss, RandomUnderSampler\n",
    "\n",
    "# Other libraries\n",
    "import os\n",
    "import time\n",
    "import pickle\n",
    "import warnings\n",
    "from scipy import interp\n",
    "from pprint import pprint\n",
    "from scipy.stats import norm\n",
    "from collections import Counter\n",
    "from imblearn.pipeline import Pipeline\n",
    "from imblearn.pipeline import make_pipeline as imbalanced_make_pipeline\n",
    "\n",
    "# Warning message\n",
    "warnings.filterwarnings(\"ignore\")\n"
   ]
  },
  {
   "cell_type": "markdown",
   "id": "9c8a60d0",
   "metadata": {},
   "source": [
    "## Load dataset"
   ]
  },
  {
   "cell_type": "code",
   "execution_count": 2,
   "id": "05d8b461",
   "metadata": {},
   "outputs": [],
   "source": [
    "df = pd.read_csv('https://raw.githubusercontent.com/letpires/7DaysOfCodeSpotifyML/main/dataset.csv', index_col=0)"
   ]
  },
  {
   "cell_type": "code",
   "execution_count": 173,
   "id": "f4a92ea1",
   "metadata": {
    "scrolled": false
   },
   "outputs": [
    {
     "data": {
      "text/html": [
       "<div>\n",
       "<style scoped>\n",
       "    .dataframe tbody tr th:only-of-type {\n",
       "        vertical-align: middle;\n",
       "    }\n",
       "\n",
       "    .dataframe tbody tr th {\n",
       "        vertical-align: top;\n",
       "    }\n",
       "\n",
       "    .dataframe thead th {\n",
       "        text-align: right;\n",
       "    }\n",
       "</style>\n",
       "<table border=\"1\" class=\"dataframe\">\n",
       "  <thead>\n",
       "    <tr style=\"text-align: right;\">\n",
       "      <th></th>\n",
       "      <th>track_id</th>\n",
       "      <th>artists</th>\n",
       "      <th>album_name</th>\n",
       "      <th>track_name</th>\n",
       "      <th>popularity</th>\n",
       "      <th>duration_ms</th>\n",
       "      <th>explicit</th>\n",
       "      <th>danceability</th>\n",
       "      <th>energy</th>\n",
       "      <th>key</th>\n",
       "      <th>loudness</th>\n",
       "      <th>mode</th>\n",
       "      <th>speechiness</th>\n",
       "      <th>acousticness</th>\n",
       "      <th>instrumentalness</th>\n",
       "      <th>liveness</th>\n",
       "      <th>valence</th>\n",
       "      <th>tempo</th>\n",
       "      <th>time_signature</th>\n",
       "      <th>track_genre</th>\n",
       "    </tr>\n",
       "  </thead>\n",
       "  <tbody>\n",
       "    <tr>\n",
       "      <th>0</th>\n",
       "      <td>5SuOikwiRyPMVoIQDJUgSV</td>\n",
       "      <td>Gen Hoshino</td>\n",
       "      <td>Comedy</td>\n",
       "      <td>Comedy</td>\n",
       "      <td>73</td>\n",
       "      <td>230666</td>\n",
       "      <td>False</td>\n",
       "      <td>0.676</td>\n",
       "      <td>0.4610</td>\n",
       "      <td>1</td>\n",
       "      <td>-6.746</td>\n",
       "      <td>0</td>\n",
       "      <td>0.1430</td>\n",
       "      <td>0.0322</td>\n",
       "      <td>0.000001</td>\n",
       "      <td>0.3580</td>\n",
       "      <td>0.715</td>\n",
       "      <td>87.917</td>\n",
       "      <td>4</td>\n",
       "      <td>acoustic</td>\n",
       "    </tr>\n",
       "    <tr>\n",
       "      <th>1</th>\n",
       "      <td>4qPNDBW1i3p13qLCt0Ki3A</td>\n",
       "      <td>Ben Woodward</td>\n",
       "      <td>Ghost (Acoustic)</td>\n",
       "      <td>Ghost - Acoustic</td>\n",
       "      <td>55</td>\n",
       "      <td>149610</td>\n",
       "      <td>False</td>\n",
       "      <td>0.420</td>\n",
       "      <td>0.1660</td>\n",
       "      <td>1</td>\n",
       "      <td>-17.235</td>\n",
       "      <td>1</td>\n",
       "      <td>0.0763</td>\n",
       "      <td>0.9240</td>\n",
       "      <td>0.000006</td>\n",
       "      <td>0.1010</td>\n",
       "      <td>0.267</td>\n",
       "      <td>77.489</td>\n",
       "      <td>4</td>\n",
       "      <td>acoustic</td>\n",
       "    </tr>\n",
       "    <tr>\n",
       "      <th>2</th>\n",
       "      <td>1iJBSr7s7jYXzM8EGcbK5b</td>\n",
       "      <td>Ingrid Michaelson;ZAYN</td>\n",
       "      <td>To Begin Again</td>\n",
       "      <td>To Begin Again</td>\n",
       "      <td>57</td>\n",
       "      <td>210826</td>\n",
       "      <td>False</td>\n",
       "      <td>0.438</td>\n",
       "      <td>0.3590</td>\n",
       "      <td>0</td>\n",
       "      <td>-9.734</td>\n",
       "      <td>1</td>\n",
       "      <td>0.0557</td>\n",
       "      <td>0.2100</td>\n",
       "      <td>0.000000</td>\n",
       "      <td>0.1170</td>\n",
       "      <td>0.120</td>\n",
       "      <td>76.332</td>\n",
       "      <td>4</td>\n",
       "      <td>acoustic</td>\n",
       "    </tr>\n",
       "    <tr>\n",
       "      <th>3</th>\n",
       "      <td>6lfxq3CG4xtTiEg7opyCyx</td>\n",
       "      <td>Kina Grannis</td>\n",
       "      <td>Crazy Rich Asians (Original Motion Picture Sou...</td>\n",
       "      <td>Can't Help Falling In Love</td>\n",
       "      <td>71</td>\n",
       "      <td>201933</td>\n",
       "      <td>False</td>\n",
       "      <td>0.266</td>\n",
       "      <td>0.0596</td>\n",
       "      <td>0</td>\n",
       "      <td>-18.515</td>\n",
       "      <td>1</td>\n",
       "      <td>0.0363</td>\n",
       "      <td>0.9050</td>\n",
       "      <td>0.000071</td>\n",
       "      <td>0.1320</td>\n",
       "      <td>0.143</td>\n",
       "      <td>181.740</td>\n",
       "      <td>3</td>\n",
       "      <td>acoustic</td>\n",
       "    </tr>\n",
       "    <tr>\n",
       "      <th>4</th>\n",
       "      <td>5vjLSffimiIP26QG5WcN2K</td>\n",
       "      <td>Chord Overstreet</td>\n",
       "      <td>Hold On</td>\n",
       "      <td>Hold On</td>\n",
       "      <td>82</td>\n",
       "      <td>198853</td>\n",
       "      <td>False</td>\n",
       "      <td>0.618</td>\n",
       "      <td>0.4430</td>\n",
       "      <td>2</td>\n",
       "      <td>-9.681</td>\n",
       "      <td>1</td>\n",
       "      <td>0.0526</td>\n",
       "      <td>0.4690</td>\n",
       "      <td>0.000000</td>\n",
       "      <td>0.0829</td>\n",
       "      <td>0.167</td>\n",
       "      <td>119.949</td>\n",
       "      <td>4</td>\n",
       "      <td>acoustic</td>\n",
       "    </tr>\n",
       "  </tbody>\n",
       "</table>\n",
       "</div>"
      ],
      "text/plain": [
       "                 track_id                 artists  \\\n",
       "0  5SuOikwiRyPMVoIQDJUgSV             Gen Hoshino   \n",
       "1  4qPNDBW1i3p13qLCt0Ki3A            Ben Woodward   \n",
       "2  1iJBSr7s7jYXzM8EGcbK5b  Ingrid Michaelson;ZAYN   \n",
       "3  6lfxq3CG4xtTiEg7opyCyx            Kina Grannis   \n",
       "4  5vjLSffimiIP26QG5WcN2K        Chord Overstreet   \n",
       "\n",
       "                                          album_name  \\\n",
       "0                                             Comedy   \n",
       "1                                   Ghost (Acoustic)   \n",
       "2                                     To Begin Again   \n",
       "3  Crazy Rich Asians (Original Motion Picture Sou...   \n",
       "4                                            Hold On   \n",
       "\n",
       "                   track_name  popularity  duration_ms  explicit  \\\n",
       "0                      Comedy          73       230666     False   \n",
       "1            Ghost - Acoustic          55       149610     False   \n",
       "2              To Begin Again          57       210826     False   \n",
       "3  Can't Help Falling In Love          71       201933     False   \n",
       "4                     Hold On          82       198853     False   \n",
       "\n",
       "   danceability  energy  key  loudness  mode  speechiness  acousticness  \\\n",
       "0         0.676  0.4610    1    -6.746     0       0.1430        0.0322   \n",
       "1         0.420  0.1660    1   -17.235     1       0.0763        0.9240   \n",
       "2         0.438  0.3590    0    -9.734     1       0.0557        0.2100   \n",
       "3         0.266  0.0596    0   -18.515     1       0.0363        0.9050   \n",
       "4         0.618  0.4430    2    -9.681     1       0.0526        0.4690   \n",
       "\n",
       "   instrumentalness  liveness  valence    tempo  time_signature track_genre  \n",
       "0          0.000001    0.3580    0.715   87.917               4    acoustic  \n",
       "1          0.000006    0.1010    0.267   77.489               4    acoustic  \n",
       "2          0.000000    0.1170    0.120   76.332               4    acoustic  \n",
       "3          0.000071    0.1320    0.143  181.740               3    acoustic  \n",
       "4          0.000000    0.0829    0.167  119.949               4    acoustic  "
      ]
     },
     "execution_count": 173,
     "metadata": {},
     "output_type": "execute_result"
    }
   ],
   "source": [
    "# Visualize the first five rows\n",
    "df.head()"
   ]
  },
  {
   "cell_type": "code",
   "execution_count": 174,
   "id": "fee9d3da",
   "metadata": {},
   "outputs": [
    {
     "name": "stdout",
     "output_type": "stream",
     "text": [
      "The database contains 20 columns and 114000 rows.\n"
     ]
    }
   ],
   "source": [
    "print(\"The database contains {} columns and {} rows.\".format(df.shape[1], df.shape[0]))"
   ]
  },
  {
   "cell_type": "markdown",
   "id": "ce6b123a",
   "metadata": {},
   "source": [
    "## Exploratory Data Analysis (EDA)"
   ]
  },
  {
   "cell_type": "markdown",
   "id": "c5a82c4c",
   "metadata": {},
   "source": [
    "### Profiling Report"
   ]
  },
  {
   "cell_type": "code",
   "execution_count": 175,
   "id": "3751c7f1",
   "metadata": {},
   "outputs": [],
   "source": [
    "#profile = ProfileReport(df)"
   ]
  },
  {
   "cell_type": "code",
   "execution_count": 176,
   "id": "6f628f6a",
   "metadata": {
    "scrolled": false
   },
   "outputs": [],
   "source": [
    "#profile"
   ]
  },
  {
   "cell_type": "code",
   "execution_count": 177,
   "id": "d8f3d689",
   "metadata": {
    "scrolled": true
   },
   "outputs": [],
   "source": [
    "# Exporting the report to HTML\n",
    "#profile.to_file('my_report.html')"
   ]
  },
  {
   "cell_type": "code",
   "execution_count": 178,
   "id": "982578b7",
   "metadata": {
    "scrolled": false
   },
   "outputs": [
    {
     "name": "stdout",
     "output_type": "stream",
     "text": [
      "<class 'pandas.core.frame.DataFrame'>\n",
      "Index: 114000 entries, 0 to 113999\n",
      "Data columns (total 20 columns):\n",
      " #   Column            Non-Null Count   Dtype  \n",
      "---  ------            --------------   -----  \n",
      " 0   track_id          114000 non-null  object \n",
      " 1   artists           113999 non-null  object \n",
      " 2   album_name        113999 non-null  object \n",
      " 3   track_name        113999 non-null  object \n",
      " 4   popularity        114000 non-null  int64  \n",
      " 5   duration_ms       114000 non-null  int64  \n",
      " 6   explicit          114000 non-null  bool   \n",
      " 7   danceability      114000 non-null  float64\n",
      " 8   energy            114000 non-null  float64\n",
      " 9   key               114000 non-null  int64  \n",
      " 10  loudness          114000 non-null  float64\n",
      " 11  mode              114000 non-null  int64  \n",
      " 12  speechiness       114000 non-null  float64\n",
      " 13  acousticness      114000 non-null  float64\n",
      " 14  instrumentalness  114000 non-null  float64\n",
      " 15  liveness          114000 non-null  float64\n",
      " 16  valence           114000 non-null  float64\n",
      " 17  tempo             114000 non-null  float64\n",
      " 18  time_signature    114000 non-null  int64  \n",
      " 19  track_genre       114000 non-null  object \n",
      "dtypes: bool(1), float64(9), int64(5), object(5)\n",
      "memory usage: 17.5+ MB\n"
     ]
    }
   ],
   "source": [
    "# Informations about df\n",
    "df.info()"
   ]
  },
  {
   "cell_type": "markdown",
   "id": "c974cec1",
   "metadata": {},
   "source": [
    "##### With the generated report, it is possible to see that three columns each have one missing value. It is important to investigate the specific missing data further to determine the best way to handle it."
   ]
  },
  {
   "cell_type": "markdown",
   "id": "54cbf18d",
   "metadata": {},
   "source": [
    "## Data Preprocessing"
   ]
  },
  {
   "cell_type": "markdown",
   "id": "1a570261",
   "metadata": {},
   "source": [
    "### Dealing with Missing Data"
   ]
  },
  {
   "cell_type": "code",
   "execution_count": 3,
   "id": "cea44981",
   "metadata": {},
   "outputs": [
    {
     "data": {
      "text/html": [
       "<div>\n",
       "<style scoped>\n",
       "    .dataframe tbody tr th:only-of-type {\n",
       "        vertical-align: middle;\n",
       "    }\n",
       "\n",
       "    .dataframe tbody tr th {\n",
       "        vertical-align: top;\n",
       "    }\n",
       "\n",
       "    .dataframe thead th {\n",
       "        text-align: right;\n",
       "    }\n",
       "</style>\n",
       "<table border=\"1\" class=\"dataframe\">\n",
       "  <thead>\n",
       "    <tr style=\"text-align: right;\">\n",
       "      <th></th>\n",
       "      <th>track_id</th>\n",
       "      <th>artists</th>\n",
       "      <th>album_name</th>\n",
       "      <th>track_name</th>\n",
       "      <th>popularity</th>\n",
       "      <th>duration_ms</th>\n",
       "      <th>explicit</th>\n",
       "      <th>danceability</th>\n",
       "      <th>energy</th>\n",
       "      <th>key</th>\n",
       "      <th>loudness</th>\n",
       "      <th>mode</th>\n",
       "      <th>speechiness</th>\n",
       "      <th>acousticness</th>\n",
       "      <th>instrumentalness</th>\n",
       "      <th>liveness</th>\n",
       "      <th>valence</th>\n",
       "      <th>tempo</th>\n",
       "      <th>time_signature</th>\n",
       "      <th>track_genre</th>\n",
       "    </tr>\n",
       "  </thead>\n",
       "  <tbody>\n",
       "    <tr>\n",
       "      <th>65900</th>\n",
       "      <td>1kR4gIb7nGxHPI3D2ifs59</td>\n",
       "      <td>NaN</td>\n",
       "      <td>NaN</td>\n",
       "      <td>NaN</td>\n",
       "      <td>0</td>\n",
       "      <td>0</td>\n",
       "      <td>False</td>\n",
       "      <td>0.501</td>\n",
       "      <td>0.583</td>\n",
       "      <td>7</td>\n",
       "      <td>-9.46</td>\n",
       "      <td>0</td>\n",
       "      <td>0.0605</td>\n",
       "      <td>0.69</td>\n",
       "      <td>0.00396</td>\n",
       "      <td>0.0747</td>\n",
       "      <td>0.734</td>\n",
       "      <td>138.391</td>\n",
       "      <td>4</td>\n",
       "      <td>k-pop</td>\n",
       "    </tr>\n",
       "  </tbody>\n",
       "</table>\n",
       "</div>"
      ],
      "text/plain": [
       "                     track_id artists album_name track_name  popularity  \\\n",
       "65900  1kR4gIb7nGxHPI3D2ifs59     NaN        NaN        NaN           0   \n",
       "\n",
       "       duration_ms  explicit  danceability  energy  key  loudness  mode  \\\n",
       "65900            0     False         0.501   0.583    7     -9.46     0   \n",
       "\n",
       "       speechiness  acousticness  instrumentalness  liveness  valence  \\\n",
       "65900       0.0605          0.69           0.00396    0.0747    0.734   \n",
       "\n",
       "         tempo  time_signature track_genre  \n",
       "65900  138.391               4       k-pop  "
      ]
     },
     "execution_count": 3,
     "metadata": {},
     "output_type": "execute_result"
    }
   ],
   "source": [
    "# Check and view rows with null values\n",
    "missing_values = df[df.isnull().any(axis=1)]\n",
    "missing_values"
   ]
  },
  {
   "cell_type": "code",
   "execution_count": 4,
   "id": "f132f9f1",
   "metadata": {},
   "outputs": [],
   "source": [
    "# Drop the rows with null values\n",
    "df.dropna(inplace=True)"
   ]
  },
  {
   "cell_type": "code",
   "execution_count": 5,
   "id": "cf8ab889",
   "metadata": {},
   "outputs": [
    {
     "name": "stdout",
     "output_type": "stream",
     "text": [
      "<class 'pandas.core.frame.DataFrame'>\n",
      "Index: 113999 entries, 0 to 113999\n",
      "Data columns (total 20 columns):\n",
      " #   Column            Non-Null Count   Dtype  \n",
      "---  ------            --------------   -----  \n",
      " 0   track_id          113999 non-null  object \n",
      " 1   artists           113999 non-null  object \n",
      " 2   album_name        113999 non-null  object \n",
      " 3   track_name        113999 non-null  object \n",
      " 4   popularity        113999 non-null  int64  \n",
      " 5   duration_ms       113999 non-null  int64  \n",
      " 6   explicit          113999 non-null  bool   \n",
      " 7   danceability      113999 non-null  float64\n",
      " 8   energy            113999 non-null  float64\n",
      " 9   key               113999 non-null  int64  \n",
      " 10  loudness          113999 non-null  float64\n",
      " 11  mode              113999 non-null  int64  \n",
      " 12  speechiness       113999 non-null  float64\n",
      " 13  acousticness      113999 non-null  float64\n",
      " 14  instrumentalness  113999 non-null  float64\n",
      " 15  liveness          113999 non-null  float64\n",
      " 16  valence           113999 non-null  float64\n",
      " 17  tempo             113999 non-null  float64\n",
      " 18  time_signature    113999 non-null  int64  \n",
      " 19  track_genre       113999 non-null  object \n",
      "dtypes: bool(1), float64(9), int64(5), object(5)\n",
      "memory usage: 17.5+ MB\n"
     ]
    }
   ],
   "source": [
    "df.info()"
   ]
  },
  {
   "cell_type": "markdown",
   "id": "a897b667",
   "metadata": {},
   "source": [
    "### Dealing with Duplicate Values"
   ]
  },
  {
   "cell_type": "code",
   "execution_count": 6,
   "id": "3cb65c97",
   "metadata": {
    "scrolled": true
   },
   "outputs": [
    {
     "name": "stdout",
     "output_type": "stream",
     "text": [
      "Duplicate rows                       track_id                 artists  \\\n",
      "1874    0CDucx9lKxuCZplLXUz0iX  Buena Onda Reggae Club   \n",
      "1925    0CDucx9lKxuCZplLXUz0iX  Buena Onda Reggae Club   \n",
      "2109    2aibwv5hGXSgw7Yru8IYTO   Red Hot Chili Peppers   \n",
      "2155    2aibwv5hGXSgw7Yru8IYTO   Red Hot Chili Peppers   \n",
      "3683    7mULVp0DJrI2Nd6GesLvxn            Joy Division   \n",
      "...                        ...                     ...   \n",
      "111980  46FPub2Fewe7XrgM0smTYI               Morcheeba   \n",
      "112931  6qVA1MqDrDKfk9144bhoKp             Acil Servis   \n",
      "112968  6qVA1MqDrDKfk9144bhoKp             Acil Servis   \n",
      "113295  5WaioelSGekDk3UNQy8zaw             Matt Redman   \n",
      "113345  5WaioelSGekDk3UNQy8zaw             Matt Redman   \n",
      "\n",
      "                                              album_name  \\\n",
      "1874                                             Disco 2   \n",
      "1925                                             Disco 2   \n",
      "2109                                    Stadium Arcadium   \n",
      "2155                                    Stadium Arcadium   \n",
      "3683                                  Timeless Rock Hits   \n",
      "...                                                  ...   \n",
      "111980                              Parts of the Process   \n",
      "112931                                        Küçük Adam   \n",
      "112968                                        Küçük Adam   \n",
      "113295  Sing Like Never Before: The Essential Collection   \n",
      "113345  Sing Like Never Before: The Essential Collection   \n",
      "\n",
      "                     track_name  popularity  duration_ms  explicit  \\\n",
      "1874           Song for Rollins          16       219346     False   \n",
      "1925           Song for Rollins          16       219346     False   \n",
      "2109              Snow (Hey Oh)          80       334666     False   \n",
      "2155              Snow (Hey Oh)          80       334666     False   \n",
      "3683    Love Will Tear Us Apart           0       204621     False   \n",
      "...                         ...         ...          ...       ...   \n",
      "111980           Undress Me Now          17       203773     False   \n",
      "112931                    Bebek          38       319933     False   \n",
      "112968                    Bebek          38       319933     False   \n",
      "113295  Our God - New Recording          34       265373     False   \n",
      "113345  Our God - New Recording          34       265373     False   \n",
      "\n",
      "        danceability  energy  key  loudness  mode  speechiness  acousticness  \\\n",
      "1874           0.841   0.577    0    -7.544     1       0.0438      0.238000   \n",
      "1925           0.841   0.577    0    -7.544     1       0.0438      0.238000   \n",
      "2109           0.427   0.900   11    -3.674     1       0.0499      0.116000   \n",
      "2155           0.427   0.900   11    -3.674     1       0.0499      0.116000   \n",
      "3683           0.524   0.902    2    -8.662     1       0.0368      0.000989   \n",
      "...              ...     ...  ...       ...   ...          ...           ...   \n",
      "111980         0.576   0.352    7   -10.773     0       0.0268      0.700000   \n",
      "112931         0.486   0.485    5   -12.391     0       0.0331      0.004460   \n",
      "112968         0.486   0.485    5   -12.391     0       0.0331      0.004460   \n",
      "113295         0.487   0.895   11    -5.061     1       0.0413      0.000183   \n",
      "113345         0.487   0.895   11    -5.061     1       0.0413      0.000183   \n",
      "\n",
      "        instrumentalness  liveness  valence    tempo  time_signature  \\\n",
      "1874            0.860000    0.0571    0.843   90.522               4   \n",
      "1925            0.860000    0.0571    0.843   90.522               4   \n",
      "2109            0.000017    0.1190    0.599  104.655               4   \n",
      "2155            0.000017    0.1190    0.599  104.655               4   \n",
      "3683            0.695000    0.1370    0.907  146.833               4   \n",
      "...                  ...       ...      ...      ...             ...   \n",
      "111980          0.270000    0.1600    0.360   95.484               4   \n",
      "112931          0.000017    0.3690    0.353  120.095               4   \n",
      "112968          0.000017    0.3690    0.353  120.095               4   \n",
      "113295          0.000000    0.3590    0.384  105.021               4   \n",
      "113345          0.000000    0.3590    0.384  105.021               4   \n",
      "\n",
      "        track_genre  \n",
      "1874       afrobeat  \n",
      "1925       afrobeat  \n",
      "2109       alt-rock  \n",
      "2155       alt-rock  \n",
      "3683    alternative  \n",
      "...             ...  \n",
      "111980     trip-hop  \n",
      "112931      turkish  \n",
      "112968      turkish  \n",
      "113295  world-music  \n",
      "113345  world-music  \n",
      "\n",
      "[894 rows x 20 columns]\n"
     ]
    }
   ],
   "source": [
    "# Duplicate values\n",
    "duplicates = df[df.duplicated(keep=False)]\n",
    "print(f\"Duplicate rows {duplicates}\")"
   ]
  },
  {
   "cell_type": "code",
   "execution_count": 7,
   "id": "563fbea4",
   "metadata": {},
   "outputs": [
    {
     "name": "stdout",
     "output_type": "stream",
     "text": [
      "Count of duplicate rows: 450\n"
     ]
    }
   ],
   "source": [
    "# Number of duplicate rows\n",
    "num_duplicate = df.duplicated().sum()\n",
    "print(f\"Count of duplicate rows: {num_duplicate}\")"
   ]
  },
  {
   "cell_type": "code",
   "execution_count": 8,
   "id": "0b45378f",
   "metadata": {},
   "outputs": [],
   "source": [
    "# Drop duplicate values\n",
    "df.drop_duplicates(keep='first', inplace=True)"
   ]
  },
  {
   "cell_type": "code",
   "execution_count": 9,
   "id": "6a0594a7",
   "metadata": {},
   "outputs": [
    {
     "name": "stdout",
     "output_type": "stream",
     "text": [
      "Count of duplicate rows: 0\n"
     ]
    }
   ],
   "source": [
    "num_duplicates_after = df.duplicated().sum()\n",
    "print(f\"Count of duplicate rows: {num_duplicates_after}\")"
   ]
  },
  {
   "cell_type": "code",
   "execution_count": 10,
   "id": "fcf63265",
   "metadata": {},
   "outputs": [
    {
     "name": "stdout",
     "output_type": "stream",
     "text": [
      "<class 'pandas.core.frame.DataFrame'>\n",
      "Index: 113549 entries, 0 to 113999\n",
      "Data columns (total 20 columns):\n",
      " #   Column            Non-Null Count   Dtype  \n",
      "---  ------            --------------   -----  \n",
      " 0   track_id          113549 non-null  object \n",
      " 1   artists           113549 non-null  object \n",
      " 2   album_name        113549 non-null  object \n",
      " 3   track_name        113549 non-null  object \n",
      " 4   popularity        113549 non-null  int64  \n",
      " 5   duration_ms       113549 non-null  int64  \n",
      " 6   explicit          113549 non-null  bool   \n",
      " 7   danceability      113549 non-null  float64\n",
      " 8   energy            113549 non-null  float64\n",
      " 9   key               113549 non-null  int64  \n",
      " 10  loudness          113549 non-null  float64\n",
      " 11  mode              113549 non-null  int64  \n",
      " 12  speechiness       113549 non-null  float64\n",
      " 13  acousticness      113549 non-null  float64\n",
      " 14  instrumentalness  113549 non-null  float64\n",
      " 15  liveness          113549 non-null  float64\n",
      " 16  valence           113549 non-null  float64\n",
      " 17  tempo             113549 non-null  float64\n",
      " 18  time_signature    113549 non-null  int64  \n",
      " 19  track_genre       113549 non-null  object \n",
      "dtypes: bool(1), float64(9), int64(5), object(5)\n",
      "memory usage: 17.4+ MB\n"
     ]
    }
   ],
   "source": [
    "df.info()"
   ]
  },
  {
   "cell_type": "markdown",
   "id": "e4ac20c6",
   "metadata": {},
   "source": [
    "## Answering some questions"
   ]
  },
  {
   "cell_type": "code",
   "execution_count": 187,
   "id": "a1bb0931",
   "metadata": {
    "scrolled": true
   },
   "outputs": [
    {
     "data": {
      "text/html": [
       "<div>\n",
       "<style scoped>\n",
       "    .dataframe tbody tr th:only-of-type {\n",
       "        vertical-align: middle;\n",
       "    }\n",
       "\n",
       "    .dataframe tbody tr th {\n",
       "        vertical-align: top;\n",
       "    }\n",
       "\n",
       "    .dataframe thead th {\n",
       "        text-align: right;\n",
       "    }\n",
       "</style>\n",
       "<table border=\"1\" class=\"dataframe\">\n",
       "  <thead>\n",
       "    <tr style=\"text-align: right;\">\n",
       "      <th></th>\n",
       "      <th>track_id</th>\n",
       "      <th>artists</th>\n",
       "      <th>album_name</th>\n",
       "      <th>track_name</th>\n",
       "      <th>popularity</th>\n",
       "      <th>duration_ms</th>\n",
       "      <th>explicit</th>\n",
       "      <th>danceability</th>\n",
       "      <th>energy</th>\n",
       "      <th>key</th>\n",
       "      <th>loudness</th>\n",
       "      <th>mode</th>\n",
       "      <th>speechiness</th>\n",
       "      <th>acousticness</th>\n",
       "      <th>instrumentalness</th>\n",
       "      <th>liveness</th>\n",
       "      <th>valence</th>\n",
       "      <th>tempo</th>\n",
       "      <th>time_signature</th>\n",
       "      <th>track_genre</th>\n",
       "    </tr>\n",
       "  </thead>\n",
       "  <tbody>\n",
       "    <tr>\n",
       "      <th>81051</th>\n",
       "      <td>3nqQXoyQOWXiESFLlDF1hG</td>\n",
       "      <td>Sam Smith;Kim Petras</td>\n",
       "      <td>Unholy (feat. Kim Petras)</td>\n",
       "      <td>Unholy (feat. Kim Petras)</td>\n",
       "      <td>100</td>\n",
       "      <td>156943</td>\n",
       "      <td>False</td>\n",
       "      <td>0.714</td>\n",
       "      <td>0.472</td>\n",
       "      <td>2</td>\n",
       "      <td>-7.375</td>\n",
       "      <td>1</td>\n",
       "      <td>0.0864</td>\n",
       "      <td>0.01300</td>\n",
       "      <td>0.000005</td>\n",
       "      <td>0.2660</td>\n",
       "      <td>0.238</td>\n",
       "      <td>131.121</td>\n",
       "      <td>4</td>\n",
       "      <td>pop</td>\n",
       "    </tr>\n",
       "    <tr>\n",
       "      <th>20001</th>\n",
       "      <td>3nqQXoyQOWXiESFLlDF1hG</td>\n",
       "      <td>Sam Smith;Kim Petras</td>\n",
       "      <td>Unholy (feat. Kim Petras)</td>\n",
       "      <td>Unholy (feat. Kim Petras)</td>\n",
       "      <td>100</td>\n",
       "      <td>156943</td>\n",
       "      <td>False</td>\n",
       "      <td>0.714</td>\n",
       "      <td>0.472</td>\n",
       "      <td>2</td>\n",
       "      <td>-7.375</td>\n",
       "      <td>1</td>\n",
       "      <td>0.0864</td>\n",
       "      <td>0.01300</td>\n",
       "      <td>0.000005</td>\n",
       "      <td>0.2660</td>\n",
       "      <td>0.238</td>\n",
       "      <td>131.121</td>\n",
       "      <td>4</td>\n",
       "      <td>dance</td>\n",
       "    </tr>\n",
       "    <tr>\n",
       "      <th>51664</th>\n",
       "      <td>2tTmW7RDtMQtBk7m2rYeSw</td>\n",
       "      <td>Bizarrap;Quevedo</td>\n",
       "      <td>Quevedo: Bzrp Music Sessions, Vol. 52</td>\n",
       "      <td>Quevedo: Bzrp Music Sessions, Vol. 52</td>\n",
       "      <td>99</td>\n",
       "      <td>198937</td>\n",
       "      <td>False</td>\n",
       "      <td>0.621</td>\n",
       "      <td>0.782</td>\n",
       "      <td>2</td>\n",
       "      <td>-5.548</td>\n",
       "      <td>1</td>\n",
       "      <td>0.0440</td>\n",
       "      <td>0.01250</td>\n",
       "      <td>0.033000</td>\n",
       "      <td>0.2300</td>\n",
       "      <td>0.550</td>\n",
       "      <td>128.033</td>\n",
       "      <td>4</td>\n",
       "      <td>hip-hop</td>\n",
       "    </tr>\n",
       "    <tr>\n",
       "      <th>68303</th>\n",
       "      <td>5ww2BF9slyYgNOk37BlC4u</td>\n",
       "      <td>Manuel Turizo</td>\n",
       "      <td>La Bachata</td>\n",
       "      <td>La Bachata</td>\n",
       "      <td>98</td>\n",
       "      <td>162637</td>\n",
       "      <td>False</td>\n",
       "      <td>0.835</td>\n",
       "      <td>0.679</td>\n",
       "      <td>7</td>\n",
       "      <td>-5.329</td>\n",
       "      <td>0</td>\n",
       "      <td>0.0364</td>\n",
       "      <td>0.58300</td>\n",
       "      <td>0.000002</td>\n",
       "      <td>0.2180</td>\n",
       "      <td>0.850</td>\n",
       "      <td>124.980</td>\n",
       "      <td>4</td>\n",
       "      <td>latino</td>\n",
       "    </tr>\n",
       "    <tr>\n",
       "      <th>81210</th>\n",
       "      <td>4uUG5RXrOk84mYEfFvj3cK</td>\n",
       "      <td>David Guetta;Bebe Rexha</td>\n",
       "      <td>I'm Good (Blue)</td>\n",
       "      <td>I'm Good (Blue)</td>\n",
       "      <td>98</td>\n",
       "      <td>175238</td>\n",
       "      <td>True</td>\n",
       "      <td>0.561</td>\n",
       "      <td>0.965</td>\n",
       "      <td>7</td>\n",
       "      <td>-3.673</td>\n",
       "      <td>0</td>\n",
       "      <td>0.0343</td>\n",
       "      <td>0.00383</td>\n",
       "      <td>0.000007</td>\n",
       "      <td>0.3710</td>\n",
       "      <td>0.304</td>\n",
       "      <td>128.040</td>\n",
       "      <td>4</td>\n",
       "      <td>pop</td>\n",
       "    </tr>\n",
       "    <tr>\n",
       "      <th>...</th>\n",
       "      <td>...</td>\n",
       "      <td>...</td>\n",
       "      <td>...</td>\n",
       "      <td>...</td>\n",
       "      <td>...</td>\n",
       "      <td>...</td>\n",
       "      <td>...</td>\n",
       "      <td>...</td>\n",
       "      <td>...</td>\n",
       "      <td>...</td>\n",
       "      <td>...</td>\n",
       "      <td>...</td>\n",
       "      <td>...</td>\n",
       "      <td>...</td>\n",
       "      <td>...</td>\n",
       "      <td>...</td>\n",
       "      <td>...</td>\n",
       "      <td>...</td>\n",
       "      <td>...</td>\n",
       "      <td>...</td>\n",
       "    </tr>\n",
       "    <tr>\n",
       "      <th>81803</th>\n",
       "      <td>75FEaRjZTKLhTrFGsfMUXR</td>\n",
       "      <td>Kate Bush</td>\n",
       "      <td>Hounds Of Love</td>\n",
       "      <td>Running Up That Hill (A Deal With God)</td>\n",
       "      <td>90</td>\n",
       "      <td>298933</td>\n",
       "      <td>False</td>\n",
       "      <td>0.629</td>\n",
       "      <td>0.547</td>\n",
       "      <td>10</td>\n",
       "      <td>-13.123</td>\n",
       "      <td>0</td>\n",
       "      <td>0.0550</td>\n",
       "      <td>0.72000</td>\n",
       "      <td>0.003140</td>\n",
       "      <td>0.0604</td>\n",
       "      <td>0.197</td>\n",
       "      <td>108.375</td>\n",
       "      <td>4</td>\n",
       "      <td>pop</td>\n",
       "    </tr>\n",
       "    <tr>\n",
       "      <th>51259</th>\n",
       "      <td>38T0tPVZHcPZyhtOcCP7pF</td>\n",
       "      <td>Lil Nas X</td>\n",
       "      <td>STAR WALKIN' (League of Legends Worlds Anthem)</td>\n",
       "      <td>STAR WALKIN' (League of Legends Worlds Anthem)</td>\n",
       "      <td>90</td>\n",
       "      <td>210575</td>\n",
       "      <td>True</td>\n",
       "      <td>0.637</td>\n",
       "      <td>0.715</td>\n",
       "      <td>2</td>\n",
       "      <td>-4.971</td>\n",
       "      <td>0</td>\n",
       "      <td>0.0455</td>\n",
       "      <td>0.14800</td>\n",
       "      <td>0.000000</td>\n",
       "      <td>0.0892</td>\n",
       "      <td>0.308</td>\n",
       "      <td>141.872</td>\n",
       "      <td>4</td>\n",
       "      <td>hip-hop</td>\n",
       "    </tr>\n",
       "    <tr>\n",
       "      <th>23002</th>\n",
       "      <td>4zN21mbAuaD0WqtmaTZZeP</td>\n",
       "      <td>James Hype;Miggy Dela Rosa</td>\n",
       "      <td>Ferrari</td>\n",
       "      <td>Ferrari</td>\n",
       "      <td>90</td>\n",
       "      <td>186661</td>\n",
       "      <td>False</td>\n",
       "      <td>0.847</td>\n",
       "      <td>0.690</td>\n",
       "      <td>1</td>\n",
       "      <td>-7.877</td>\n",
       "      <td>0</td>\n",
       "      <td>0.0493</td>\n",
       "      <td>0.01270</td>\n",
       "      <td>0.000060</td>\n",
       "      <td>0.0526</td>\n",
       "      <td>0.692</td>\n",
       "      <td>125.004</td>\n",
       "      <td>4</td>\n",
       "      <td>deep-house</td>\n",
       "    </tr>\n",
       "    <tr>\n",
       "      <th>51352</th>\n",
       "      <td>1PckUlxKqWQs3RlWXVBLw3</td>\n",
       "      <td>Lizzo</td>\n",
       "      <td>About Damn Time</td>\n",
       "      <td>About Damn Time</td>\n",
       "      <td>89</td>\n",
       "      <td>191822</td>\n",
       "      <td>True</td>\n",
       "      <td>0.836</td>\n",
       "      <td>0.743</td>\n",
       "      <td>10</td>\n",
       "      <td>-6.305</td>\n",
       "      <td>0</td>\n",
       "      <td>0.0656</td>\n",
       "      <td>0.09950</td>\n",
       "      <td>0.000000</td>\n",
       "      <td>0.3350</td>\n",
       "      <td>0.722</td>\n",
       "      <td>108.966</td>\n",
       "      <td>4</td>\n",
       "      <td>hip-hop</td>\n",
       "    </tr>\n",
       "    <tr>\n",
       "      <th>81053</th>\n",
       "      <td>0u2P5u6lvoDfwTYjAADbn4</td>\n",
       "      <td>Billie Eilish;Khalid</td>\n",
       "      <td>lovely (with Khalid)</td>\n",
       "      <td>lovely (with Khalid)</td>\n",
       "      <td>89</td>\n",
       "      <td>200185</td>\n",
       "      <td>False</td>\n",
       "      <td>0.351</td>\n",
       "      <td>0.296</td>\n",
       "      <td>4</td>\n",
       "      <td>-10.109</td>\n",
       "      <td>0</td>\n",
       "      <td>0.0333</td>\n",
       "      <td>0.93400</td>\n",
       "      <td>0.000000</td>\n",
       "      <td>0.0950</td>\n",
       "      <td>0.120</td>\n",
       "      <td>115.284</td>\n",
       "      <td>4</td>\n",
       "      <td>pop</td>\n",
       "    </tr>\n",
       "  </tbody>\n",
       "</table>\n",
       "<p>100 rows × 20 columns</p>\n",
       "</div>"
      ],
      "text/plain": [
       "                     track_id                     artists  \\\n",
       "81051  3nqQXoyQOWXiESFLlDF1hG        Sam Smith;Kim Petras   \n",
       "20001  3nqQXoyQOWXiESFLlDF1hG        Sam Smith;Kim Petras   \n",
       "51664  2tTmW7RDtMQtBk7m2rYeSw            Bizarrap;Quevedo   \n",
       "68303  5ww2BF9slyYgNOk37BlC4u               Manuel Turizo   \n",
       "81210  4uUG5RXrOk84mYEfFvj3cK     David Guetta;Bebe Rexha   \n",
       "...                       ...                         ...   \n",
       "81803  75FEaRjZTKLhTrFGsfMUXR                   Kate Bush   \n",
       "51259  38T0tPVZHcPZyhtOcCP7pF                   Lil Nas X   \n",
       "23002  4zN21mbAuaD0WqtmaTZZeP  James Hype;Miggy Dela Rosa   \n",
       "51352  1PckUlxKqWQs3RlWXVBLw3                       Lizzo   \n",
       "81053  0u2P5u6lvoDfwTYjAADbn4        Billie Eilish;Khalid   \n",
       "\n",
       "                                           album_name  \\\n",
       "81051                       Unholy (feat. Kim Petras)   \n",
       "20001                       Unholy (feat. Kim Petras)   \n",
       "51664           Quevedo: Bzrp Music Sessions, Vol. 52   \n",
       "68303                                      La Bachata   \n",
       "81210                                 I'm Good (Blue)   \n",
       "...                                               ...   \n",
       "81803                                  Hounds Of Love   \n",
       "51259  STAR WALKIN' (League of Legends Worlds Anthem)   \n",
       "23002                                         Ferrari   \n",
       "51352                                 About Damn Time   \n",
       "81053                            lovely (with Khalid)   \n",
       "\n",
       "                                           track_name  popularity  \\\n",
       "81051                       Unholy (feat. Kim Petras)         100   \n",
       "20001                       Unholy (feat. Kim Petras)         100   \n",
       "51664           Quevedo: Bzrp Music Sessions, Vol. 52          99   \n",
       "68303                                      La Bachata          98   \n",
       "81210                                 I'm Good (Blue)          98   \n",
       "...                                               ...         ...   \n",
       "81803          Running Up That Hill (A Deal With God)          90   \n",
       "51259  STAR WALKIN' (League of Legends Worlds Anthem)          90   \n",
       "23002                                         Ferrari          90   \n",
       "51352                                 About Damn Time          89   \n",
       "81053                            lovely (with Khalid)          89   \n",
       "\n",
       "       duration_ms  explicit  danceability  energy  key  loudness  mode  \\\n",
       "81051       156943     False         0.714   0.472    2    -7.375     1   \n",
       "20001       156943     False         0.714   0.472    2    -7.375     1   \n",
       "51664       198937     False         0.621   0.782    2    -5.548     1   \n",
       "68303       162637     False         0.835   0.679    7    -5.329     0   \n",
       "81210       175238      True         0.561   0.965    7    -3.673     0   \n",
       "...            ...       ...           ...     ...  ...       ...   ...   \n",
       "81803       298933     False         0.629   0.547   10   -13.123     0   \n",
       "51259       210575      True         0.637   0.715    2    -4.971     0   \n",
       "23002       186661     False         0.847   0.690    1    -7.877     0   \n",
       "51352       191822      True         0.836   0.743   10    -6.305     0   \n",
       "81053       200185     False         0.351   0.296    4   -10.109     0   \n",
       "\n",
       "       speechiness  acousticness  instrumentalness  liveness  valence  \\\n",
       "81051       0.0864       0.01300          0.000005    0.2660    0.238   \n",
       "20001       0.0864       0.01300          0.000005    0.2660    0.238   \n",
       "51664       0.0440       0.01250          0.033000    0.2300    0.550   \n",
       "68303       0.0364       0.58300          0.000002    0.2180    0.850   \n",
       "81210       0.0343       0.00383          0.000007    0.3710    0.304   \n",
       "...            ...           ...               ...       ...      ...   \n",
       "81803       0.0550       0.72000          0.003140    0.0604    0.197   \n",
       "51259       0.0455       0.14800          0.000000    0.0892    0.308   \n",
       "23002       0.0493       0.01270          0.000060    0.0526    0.692   \n",
       "51352       0.0656       0.09950          0.000000    0.3350    0.722   \n",
       "81053       0.0333       0.93400          0.000000    0.0950    0.120   \n",
       "\n",
       "         tempo  time_signature track_genre  \n",
       "81051  131.121               4         pop  \n",
       "20001  131.121               4       dance  \n",
       "51664  128.033               4     hip-hop  \n",
       "68303  124.980               4      latino  \n",
       "81210  128.040               4         pop  \n",
       "...        ...             ...         ...  \n",
       "81803  108.375               4         pop  \n",
       "51259  141.872               4     hip-hop  \n",
       "23002  125.004               4  deep-house  \n",
       "51352  108.966               4     hip-hop  \n",
       "81053  115.284               4         pop  \n",
       "\n",
       "[100 rows x 20 columns]"
      ]
     },
     "execution_count": 187,
     "metadata": {},
     "output_type": "execute_result"
    }
   ],
   "source": [
    "# Top 100 popular songs\n",
    "popular_songs = df.sort_values('popularity', ascending=False).head(100)\n",
    "popular_songs"
   ]
  },
  {
   "cell_type": "code",
   "execution_count": 188,
   "id": "f1375976",
   "metadata": {
    "scrolled": true
   },
   "outputs": [
    {
     "data": {
      "text/plain": [
       "artists\n",
       "Sam Smith;Kim Petras          100.0\n",
       "Bizarrap;Quevedo               99.0\n",
       "Manuel Turizo                  98.0\n",
       "Bad Bunny;Chencho Corleone     97.0\n",
       "Bad Bunny;Bomba Estéreo        94.5\n",
       "Joji                           94.0\n",
       "Beyoncé                        93.0\n",
       "Harry Styles                   92.0\n",
       "Rema;Selena Gomez              92.0\n",
       "Drake;21 Savage                91.0\n",
       "Name: popularity, dtype: float64"
      ]
     },
     "execution_count": 188,
     "metadata": {},
     "output_type": "execute_result"
    }
   ],
   "source": [
    "# Most popular artists\n",
    "popular_artists = df.groupby('artists')['popularity'].mean().sort_values(ascending=False).head(10)\n",
    "popular_artists"
   ]
  },
  {
   "cell_type": "code",
   "execution_count": 189,
   "id": "6f0c83d5",
   "metadata": {
    "scrolled": true
   },
   "outputs": [
    {
     "data": {
      "text/plain": [
       "track_genre\n",
       "pop-film     59.280280\n",
       "k-pop        56.963928\n",
       "chill        53.704705\n",
       "sad          52.379000\n",
       "grunge       49.582583\n",
       "indian       49.528529\n",
       "anime        48.766767\n",
       "emo          48.128000\n",
       "pop          47.903323\n",
       "sertanejo    47.866000\n",
       "Name: popularity, dtype: float64"
      ]
     },
     "execution_count": 189,
     "metadata": {},
     "output_type": "execute_result"
    }
   ],
   "source": [
    "# Most popular genre\n",
    "popular_genre = df.groupby('track_genre')['popularity'].mean().sort_values(ascending=False).head(10)\n",
    "popular_genre"
   ]
  },
  {
   "cell_type": "code",
   "execution_count": 190,
   "id": "5849b781",
   "metadata": {},
   "outputs": [
    {
     "data": {
      "text/html": [
       "<div>\n",
       "<style scoped>\n",
       "    .dataframe tbody tr th:only-of-type {\n",
       "        vertical-align: middle;\n",
       "    }\n",
       "\n",
       "    .dataframe tbody tr th {\n",
       "        vertical-align: top;\n",
       "    }\n",
       "\n",
       "    .dataframe thead th {\n",
       "        text-align: right;\n",
       "    }\n",
       "</style>\n",
       "<table border=\"1\" class=\"dataframe\">\n",
       "  <thead>\n",
       "    <tr style=\"text-align: right;\">\n",
       "      <th></th>\n",
       "      <th>track_name</th>\n",
       "      <th>artists</th>\n",
       "      <th>danceability</th>\n",
       "    </tr>\n",
       "  </thead>\n",
       "  <tbody>\n",
       "    <tr>\n",
       "      <th>111635</th>\n",
       "      <td>Sol Clap</td>\n",
       "      <td>Quantic</td>\n",
       "      <td>0.985</td>\n",
       "    </tr>\n",
       "    <tr>\n",
       "      <th>66576</th>\n",
       "      <td>Medicaid Baby</td>\n",
       "      <td>That Girl Lay Lay</td>\n",
       "      <td>0.984</td>\n",
       "    </tr>\n",
       "    <tr>\n",
       "      <th>24916</th>\n",
       "      <td>Inspiration</td>\n",
       "      <td>Delano Smith</td>\n",
       "      <td>0.983</td>\n",
       "    </tr>\n",
       "    <tr>\n",
       "      <th>73374</th>\n",
       "      <td>Daily Routines</td>\n",
       "      <td>Oliver Schories</td>\n",
       "      <td>0.982</td>\n",
       "    </tr>\n",
       "    <tr>\n",
       "      <th>66793</th>\n",
       "      <td>Featuring Mixx Master Lee, Red Rum &amp; J. Smoov ...</td>\n",
       "      <td>Mixx Master Lee</td>\n",
       "      <td>0.981</td>\n",
       "    </tr>\n",
       "  </tbody>\n",
       "</table>\n",
       "</div>"
      ],
      "text/plain": [
       "                                               track_name            artists  \\\n",
       "111635                                           Sol Clap            Quantic   \n",
       "66576                                       Medicaid Baby  That Girl Lay Lay   \n",
       "24916                                         Inspiration       Delano Smith   \n",
       "73374                                      Daily Routines    Oliver Schories   \n",
       "66793   Featuring Mixx Master Lee, Red Rum & J. Smoov ...    Mixx Master Lee   \n",
       "\n",
       "        danceability  \n",
       "111635         0.985  \n",
       "66576          0.984  \n",
       "24916          0.983  \n",
       "73374          0.982  \n",
       "66793          0.981  "
      ]
     },
     "execution_count": 190,
     "metadata": {},
     "output_type": "execute_result"
    }
   ],
   "source": [
    "#  Top 5 danceable songs\n",
    "top_5_songs = df[['track_name','artists', 'danceability']].sort_values(by='danceability', ascending=False).head(5)\n",
    "top_5_songs"
   ]
  },
  {
   "cell_type": "code",
   "execution_count": 191,
   "id": "df062b07",
   "metadata": {
    "scrolled": false
   },
   "outputs": [
    {
     "data": {
      "image/png": "[encoded data removed]",
      "text/plain": [
       "<Figure size 1000x600 with 1 Axes>"
      ]
     },
     "metadata": {},
     "output_type": "display_data"
    }
   ],
   "source": [
    "# Graphic visualization Most danceability songs\n",
    "\n",
    "sizes = top_5_songs['danceability']\n",
    "labels = top_5_songs['track_name']\n",
    "\n",
    "colors = ['#FF9999', '#66B3FF', '#99FF99', '#FFCC99', '#FFD700']\n",
    "\n",
    "plt.figure(figsize=(10, 6))\n",
    "plt.pie(sizes, labels=labels, colors=colors, autopct='%1.2f%%', startangle=140)\n",
    "plt.axis('equal')\n",
    "plt.title('Top 5 danceability songs')\n",
    "\n",
    "plt.show()"
   ]
  },
  {
   "cell_type": "markdown",
   "id": "c080cc14",
   "metadata": {},
   "source": [
    "## Data Transformation"
   ]
  },
  {
   "cell_type": "code",
   "execution_count": 11,
   "id": "cb36a52f",
   "metadata": {},
   "outputs": [],
   "source": [
    "# Class creation for popularity\n",
    "\n",
    "\"\"\" We will create a new column with popularity datas.\n",
    "    Where 1 is for popularity and 0 for non popular\"\"\"\n",
    "\n",
    "# Define the class\n",
    "\n",
    "df[df['popularity']>=80]\n",
    "\n",
    "# Create list for condition and choice\n",
    "condition = [\n",
    "    (df['popularity']>=80),\n",
    "    (df['popularity']<80)\n",
    "]\n",
    "\n",
    "choicelist = [1,0]\n",
    "\n",
    "# New column with new values for popularity\n",
    "df['pop_class'] = np.select(condition, choicelist, default='Not Specified')\n",
    "df['pop_class'] = df['pop_class'].astype(int)"
   ]
  },
  {
   "cell_type": "code",
   "execution_count": 12,
   "id": "102c2262",
   "metadata": {
    "scrolled": false
   },
   "outputs": [
    {
     "name": "stdout",
     "output_type": "stream",
     "text": [
      "<class 'pandas.core.frame.DataFrame'>\n",
      "Index: 113549 entries, 0 to 113999\n",
      "Data columns (total 21 columns):\n",
      " #   Column            Non-Null Count   Dtype  \n",
      "---  ------            --------------   -----  \n",
      " 0   track_id          113549 non-null  object \n",
      " 1   artists           113549 non-null  object \n",
      " 2   album_name        113549 non-null  object \n",
      " 3   track_name        113549 non-null  object \n",
      " 4   popularity        113549 non-null  int64  \n",
      " 5   duration_ms       113549 non-null  int64  \n",
      " 6   explicit          113549 non-null  bool   \n",
      " 7   danceability      113549 non-null  float64\n",
      " 8   energy            113549 non-null  float64\n",
      " 9   key               113549 non-null  int64  \n",
      " 10  loudness          113549 non-null  float64\n",
      " 11  mode              113549 non-null  int64  \n",
      " 12  speechiness       113549 non-null  float64\n",
      " 13  acousticness      113549 non-null  float64\n",
      " 14  instrumentalness  113549 non-null  float64\n",
      " 15  liveness          113549 non-null  float64\n",
      " 16  valence           113549 non-null  float64\n",
      " 17  tempo             113549 non-null  float64\n",
      " 18  time_signature    113549 non-null  int64  \n",
      " 19  track_genre       113549 non-null  object \n",
      " 20  pop_class         113549 non-null  int32  \n",
      "dtypes: bool(1), float64(9), int32(1), int64(5), object(5)\n",
      "memory usage: 17.9+ MB\n"
     ]
    }
   ],
   "source": [
    "df.info()"
   ]
  },
  {
   "cell_type": "code",
   "execution_count": 13,
   "id": "f7cf9b25",
   "metadata": {},
   "outputs": [],
   "source": [
    "# Drop popularity column\n",
    "df.drop(columns=['popularity'], inplace=True)"
   ]
  },
  {
   "cell_type": "code",
   "execution_count": 14,
   "id": "65548b85",
   "metadata": {},
   "outputs": [
    {
     "name": "stdout",
     "output_type": "stream",
     "text": [
      "The database contains 15 columns and 113549 rows.\n"
     ]
    }
   ],
   "source": [
    "# For Machine Learning calculations, we only need the quantitative columns\n",
    "\n",
    "# Create an empty column\n",
    "col_to_drop = []\n",
    "\n",
    "# Loop for\n",
    "for column in df:\n",
    "    if df[column].dtype == 'object':\n",
    "        col_to_drop.append(column)\n",
    "\n",
    "df_quantitative = df.drop(columns=col_to_drop)\n",
    "\n",
    "print(\"The database contains {} columns and {} rows.\".format(df_quantitative.shape[1], df_quantitative.shape[0]))"
   ]
  },
  {
   "cell_type": "code",
   "execution_count": 15,
   "id": "631afd45",
   "metadata": {
    "scrolled": true
   },
   "outputs": [],
   "source": [
    "# Drop explicit column\n",
    "\n",
    "df_quantitative.drop(columns=['explicit'], inplace=True)"
   ]
  },
  {
   "cell_type": "code",
   "execution_count": 16,
   "id": "cdc74482",
   "metadata": {},
   "outputs": [
    {
     "name": "stdout",
     "output_type": "stream",
     "text": [
      "<class 'pandas.core.frame.DataFrame'>\n",
      "Index: 113549 entries, 0 to 113999\n",
      "Data columns (total 14 columns):\n",
      " #   Column            Non-Null Count   Dtype  \n",
      "---  ------            --------------   -----  \n",
      " 0   duration_ms       113549 non-null  int64  \n",
      " 1   danceability      113549 non-null  float64\n",
      " 2   energy            113549 non-null  float64\n",
      " 3   key               113549 non-null  int64  \n",
      " 4   loudness          113549 non-null  float64\n",
      " 5   mode              113549 non-null  int64  \n",
      " 6   speechiness       113549 non-null  float64\n",
      " 7   acousticness      113549 non-null  float64\n",
      " 8   instrumentalness  113549 non-null  float64\n",
      " 9   liveness          113549 non-null  float64\n",
      " 10  valence           113549 non-null  float64\n",
      " 11  tempo             113549 non-null  float64\n",
      " 12  time_signature    113549 non-null  int64  \n",
      " 13  pop_class         113549 non-null  int32  \n",
      "dtypes: float64(9), int32(1), int64(4)\n",
      "memory usage: 12.6 MB\n"
     ]
    }
   ],
   "source": [
    "df_quantitative.info()"
   ]
  },
  {
   "cell_type": "markdown",
   "id": "d472e051",
   "metadata": {},
   "source": [
    "## Data Normalization"
   ]
  },
  {
   "cell_type": "code",
   "execution_count": 197,
   "id": "fe2f8b35",
   "metadata": {},
   "outputs": [
    {
     "data": {
      "text/plain": [
       "<Axes: >"
      ]
     },
     "execution_count": 197,
     "metadata": {},
     "output_type": "execute_result"
    },
    {
     "data": {
      "image/png": "[encoded data removed]",
      "text/plain": [
       "<Figure size 640x480 with 1 Axes>"
      ]
     },
     "metadata": {},
     "output_type": "display_data"
    }
   ],
   "source": [
    "# Unnormalized df\n",
    "df_quantitative.boxplot()"
   ]
  },
  {
   "cell_type": "code",
   "execution_count": 198,
   "id": "c5dd3353",
   "metadata": {
    "scrolled": true
   },
   "outputs": [
    {
     "data": {
      "text/plain": [
       "Index(['duration_ms', 'danceability', 'energy', 'key', 'loudness', 'mode',\n",
       "       'speechiness', 'acousticness', 'instrumentalness', 'liveness',\n",
       "       'valence', 'tempo', 'time_signature', 'pop_class'],\n",
       "      dtype='object')"
      ]
     },
     "execution_count": 198,
     "metadata": {},
     "output_type": "execute_result"
    }
   ],
   "source": [
    "df_quantitative.columns"
   ]
  },
  {
   "cell_type": "code",
   "execution_count": 17,
   "id": "dbf21512",
   "metadata": {},
   "outputs": [
    {
     "data": {
      "text/html": [
       "<div>\n",
       "<style scoped>\n",
       "    .dataframe tbody tr th:only-of-type {\n",
       "        vertical-align: middle;\n",
       "    }\n",
       "\n",
       "    .dataframe tbody tr th {\n",
       "        vertical-align: top;\n",
       "    }\n",
       "\n",
       "    .dataframe thead th {\n",
       "        text-align: right;\n",
       "    }\n",
       "</style>\n",
       "<table border=\"1\" class=\"dataframe\">\n",
       "  <thead>\n",
       "    <tr style=\"text-align: right;\">\n",
       "      <th></th>\n",
       "      <th>duration_ms</th>\n",
       "      <th>danceability</th>\n",
       "      <th>energy</th>\n",
       "      <th>key</th>\n",
       "      <th>loudness</th>\n",
       "      <th>mode</th>\n",
       "      <th>speechiness</th>\n",
       "      <th>acousticness</th>\n",
       "      <th>instrumentalness</th>\n",
       "      <th>liveness</th>\n",
       "      <th>valence</th>\n",
       "      <th>tempo</th>\n",
       "      <th>time_signature</th>\n",
       "      <th>pop_class</th>\n",
       "    </tr>\n",
       "  </thead>\n",
       "  <tbody>\n",
       "    <tr>\n",
       "      <th>0</th>\n",
       "      <td>0.042473</td>\n",
       "      <td>0.686294</td>\n",
       "      <td>0.4610</td>\n",
       "      <td>0.090909</td>\n",
       "      <td>0.791392</td>\n",
       "      <td>0.0</td>\n",
       "      <td>0.148187</td>\n",
       "      <td>0.032329</td>\n",
       "      <td>0.000001</td>\n",
       "      <td>0.3580</td>\n",
       "      <td>0.718593</td>\n",
       "      <td>0.361245</td>\n",
       "      <td>0.8</td>\n",
       "      <td>0.0</td>\n",
       "    </tr>\n",
       "    <tr>\n",
       "      <th>1</th>\n",
       "      <td>0.026971</td>\n",
       "      <td>0.426396</td>\n",
       "      <td>0.1660</td>\n",
       "      <td>0.090909</td>\n",
       "      <td>0.597377</td>\n",
       "      <td>1.0</td>\n",
       "      <td>0.079067</td>\n",
       "      <td>0.927711</td>\n",
       "      <td>0.000006</td>\n",
       "      <td>0.1010</td>\n",
       "      <td>0.268342</td>\n",
       "      <td>0.318397</td>\n",
       "      <td>0.8</td>\n",
       "      <td>0.0</td>\n",
       "    </tr>\n",
       "    <tr>\n",
       "      <th>2</th>\n",
       "      <td>0.038679</td>\n",
       "      <td>0.444670</td>\n",
       "      <td>0.3590</td>\n",
       "      <td>0.000000</td>\n",
       "      <td>0.736123</td>\n",
       "      <td>1.0</td>\n",
       "      <td>0.057720</td>\n",
       "      <td>0.210843</td>\n",
       "      <td>0.000000</td>\n",
       "      <td>0.1170</td>\n",
       "      <td>0.120603</td>\n",
       "      <td>0.313643</td>\n",
       "      <td>0.8</td>\n",
       "      <td>0.0</td>\n",
       "    </tr>\n",
       "    <tr>\n",
       "      <th>3</th>\n",
       "      <td>0.036978</td>\n",
       "      <td>0.270051</td>\n",
       "      <td>0.0596</td>\n",
       "      <td>0.000000</td>\n",
       "      <td>0.573701</td>\n",
       "      <td>1.0</td>\n",
       "      <td>0.037617</td>\n",
       "      <td>0.908635</td>\n",
       "      <td>0.000071</td>\n",
       "      <td>0.1320</td>\n",
       "      <td>0.143719</td>\n",
       "      <td>0.746758</td>\n",
       "      <td>0.6</td>\n",
       "      <td>0.0</td>\n",
       "    </tr>\n",
       "    <tr>\n",
       "      <th>4</th>\n",
       "      <td>0.036389</td>\n",
       "      <td>0.627411</td>\n",
       "      <td>0.4430</td>\n",
       "      <td>0.181818</td>\n",
       "      <td>0.737103</td>\n",
       "      <td>1.0</td>\n",
       "      <td>0.054508</td>\n",
       "      <td>0.470884</td>\n",
       "      <td>0.000000</td>\n",
       "      <td>0.0829</td>\n",
       "      <td>0.167839</td>\n",
       "      <td>0.492863</td>\n",
       "      <td>0.8</td>\n",
       "      <td>1.0</td>\n",
       "    </tr>\n",
       "  </tbody>\n",
       "</table>\n",
       "</div>"
      ],
      "text/plain": [
       "   duration_ms  danceability  energy       key  loudness  mode  speechiness  \\\n",
       "0     0.042473      0.686294  0.4610  0.090909  0.791392   0.0     0.148187   \n",
       "1     0.026971      0.426396  0.1660  0.090909  0.597377   1.0     0.079067   \n",
       "2     0.038679      0.444670  0.3590  0.000000  0.736123   1.0     0.057720   \n",
       "3     0.036978      0.270051  0.0596  0.000000  0.573701   1.0     0.037617   \n",
       "4     0.036389      0.627411  0.4430  0.181818  0.737103   1.0     0.054508   \n",
       "\n",
       "   acousticness  instrumentalness  liveness   valence     tempo  \\\n",
       "0      0.032329          0.000001    0.3580  0.718593  0.361245   \n",
       "1      0.927711          0.000006    0.1010  0.268342  0.318397   \n",
       "2      0.210843          0.000000    0.1170  0.120603  0.313643   \n",
       "3      0.908635          0.000071    0.1320  0.143719  0.746758   \n",
       "4      0.470884          0.000000    0.0829  0.167839  0.492863   \n",
       "\n",
       "   time_signature  pop_class  \n",
       "0             0.8        0.0  \n",
       "1             0.8        0.0  \n",
       "2             0.8        0.0  \n",
       "3             0.6        0.0  \n",
       "4             0.8        1.0  "
      ]
     },
     "execution_count": 17,
     "metadata": {},
     "output_type": "execute_result"
    }
   ],
   "source": [
    "# Manual Normalization\n",
    "df_quantitative_nm = (df_quantitative - df_quantitative.min()) / (df_quantitative.max() - df_quantitative.min())\n",
    "df_quantitative_nm.head()"
   ]
  },
  {
   "cell_type": "code",
   "execution_count": 18,
   "id": "1632c7e9",
   "metadata": {},
   "outputs": [
    {
     "data": {
      "text/plain": [
       "<Axes: >"
      ]
     },
     "execution_count": 18,
     "metadata": {},
     "output_type": "execute_result"
    },
    {
     "data": {
      "image/png": "[encoded data removed]",
      "text/plain": [
       "<Figure size 640x480 with 1 Axes>"
      ]
     },
     "metadata": {},
     "output_type": "display_data"
    }
   ],
   "source": [
    "# Normalized df\n",
    "df_quantitative_nm.boxplot()"
   ]
  },
  {
   "cell_type": "markdown",
   "id": "b4709066",
   "metadata": {},
   "source": [
    "## Splitting the model"
   ]
  },
  {
   "cell_type": "markdown",
   "id": "ebd875e3",
   "metadata": {},
   "source": [
    "We split the data to analyze the performance of our model in a fair way. This technique is used to guarantee the model won't overfit. In summary, the training data is used to train the model, while the test data is used to evaluate the model's performance on data it has never seen before. The validation data is used to fine-tune the model's hyperparameters (parameters that improve the model's performance)."
   ]
  },
  {
   "cell_type": "code",
   "execution_count": 201,
   "id": "f8637693",
   "metadata": {
    "scrolled": false
   },
   "outputs": [
    {
     "data": {
      "text/plain": [
       "Index(['duration_ms', 'danceability', 'energy', 'key', 'loudness', 'mode',\n",
       "       'speechiness', 'acousticness', 'instrumentalness', 'liveness',\n",
       "       'valence', 'tempo', 'time_signature', 'pop_class'],\n",
       "      dtype='object')"
      ]
     },
     "execution_count": 201,
     "metadata": {},
     "output_type": "execute_result"
    }
   ],
   "source": [
    "df_quantitative_nm.columns"
   ]
  },
  {
   "cell_type": "code",
   "execution_count": 19,
   "id": "ba381e4e",
   "metadata": {},
   "outputs": [],
   "source": [
    "# Splitting the data for train and validation\n",
    "df_train, df_test = train_test_split(df_quantitative_nm, test_size=0.2, random_state=42, shuffle=True)"
   ]
  },
  {
   "cell_type": "code",
   "execution_count": 20,
   "id": "86597546",
   "metadata": {},
   "outputs": [
    {
     "data": {
      "text/plain": [
       "pop_class\n",
       "0.0    0.98941\n",
       "1.0    0.01059\n",
       "Name: proportion, dtype: float64"
      ]
     },
     "execution_count": 20,
     "metadata": {},
     "output_type": "execute_result"
    }
   ],
   "source": [
    "# Visualizing variable proportions\n",
    "df_train.pop_class.value_counts(normalize=True)"
   ]
  },
  {
   "cell_type": "code",
   "execution_count": 21,
   "id": "4677128b",
   "metadata": {},
   "outputs": [
    {
     "data": {
      "text/plain": [
       "pop_class\n",
       "0.0    0.989564\n",
       "1.0    0.010436\n",
       "Name: proportion, dtype: float64"
      ]
     },
     "execution_count": 21,
     "metadata": {},
     "output_type": "execute_result"
    }
   ],
   "source": [
    "# Visualizing variable proportions\n",
    "df_test.pop_class.value_counts(normalize=True)"
   ]
  },
  {
   "cell_type": "code",
   "execution_count": 22,
   "id": "2d75c63b",
   "metadata": {},
   "outputs": [],
   "source": [
    "# Dividing X and y\n",
    "X = df_train.drop('pop_class', axis=1)\n",
    "y = df_train.pop_class\n",
    "\n",
    "# Data Division keeping sample percentage\n",
    "StratifiedKFold = StratifiedKFold(n_splits=5, shuffle=True, random_state=42)"
   ]
  },
  {
   "cell_type": "markdown",
   "id": "f8fe7391",
   "metadata": {},
   "source": [
    "**StratifiedKFold** is a variation of k-fold which returns stratified folds: each set contains approximately the same percentage of samples of each target class as the complete set. [https://scikit-learn.org/stable/modules/cross_validation.html]"
   ]
  },
  {
   "cell_type": "code",
   "execution_count": 206,
   "id": "1e765682",
   "metadata": {},
   "outputs": [
    {
     "data": {
      "text/html": [
       "<div>\n",
       "<style scoped>\n",
       "    .dataframe tbody tr th:only-of-type {\n",
       "        vertical-align: middle;\n",
       "    }\n",
       "\n",
       "    .dataframe tbody tr th {\n",
       "        vertical-align: top;\n",
       "    }\n",
       "\n",
       "    .dataframe thead th {\n",
       "        text-align: right;\n",
       "    }\n",
       "</style>\n",
       "<table border=\"1\" class=\"dataframe\">\n",
       "  <thead>\n",
       "    <tr style=\"text-align: right;\">\n",
       "      <th></th>\n",
       "      <th>duration_ms</th>\n",
       "      <th>danceability</th>\n",
       "      <th>energy</th>\n",
       "      <th>key</th>\n",
       "      <th>loudness</th>\n",
       "      <th>mode</th>\n",
       "      <th>speechiness</th>\n",
       "      <th>acousticness</th>\n",
       "      <th>instrumentalness</th>\n",
       "      <th>liveness</th>\n",
       "      <th>valence</th>\n",
       "      <th>tempo</th>\n",
       "      <th>time_signature</th>\n",
       "    </tr>\n",
       "  </thead>\n",
       "  <tbody>\n",
       "    <tr>\n",
       "      <th>count</th>\n",
       "      <td>90839.000000</td>\n",
       "      <td>90839.000000</td>\n",
       "      <td>90839.000000</td>\n",
       "      <td>90839.000000</td>\n",
       "      <td>90839.000000</td>\n",
       "      <td>90839.000000</td>\n",
       "      <td>90839.000000</td>\n",
       "      <td>90839.000000</td>\n",
       "      <td>90839.000000</td>\n",
       "      <td>90839.000000</td>\n",
       "      <td>90839.000000</td>\n",
       "      <td>90839.000000</td>\n",
       "      <td>90839.000000</td>\n",
       "    </tr>\n",
       "    <tr>\n",
       "      <th>mean</th>\n",
       "      <td>0.041988</td>\n",
       "      <td>0.575899</td>\n",
       "      <td>0.642366</td>\n",
       "      <td>0.482775</td>\n",
       "      <td>0.763694</td>\n",
       "      <td>0.637149</td>\n",
       "      <td>0.088038</td>\n",
       "      <td>0.314938</td>\n",
       "      <td>0.155720</td>\n",
       "      <td>0.213835</td>\n",
       "      <td>0.476308</td>\n",
       "      <td>0.502021</td>\n",
       "      <td>0.780980</td>\n",
       "    </tr>\n",
       "    <tr>\n",
       "      <th>std</th>\n",
       "      <td>0.020364</td>\n",
       "      <td>0.176021</td>\n",
       "      <td>0.250962</td>\n",
       "      <td>0.323799</td>\n",
       "      <td>0.092578</td>\n",
       "      <td>0.480825</td>\n",
       "      <td>0.110068</td>\n",
       "      <td>0.333138</td>\n",
       "      <td>0.309283</td>\n",
       "      <td>0.190852</td>\n",
       "      <td>0.260495</td>\n",
       "      <td>0.123249</td>\n",
       "      <td>0.086178</td>\n",
       "    </tr>\n",
       "    <tr>\n",
       "      <th>min</th>\n",
       "      <td>0.000000</td>\n",
       "      <td>0.000000</td>\n",
       "      <td>0.000000</td>\n",
       "      <td>0.000000</td>\n",
       "      <td>0.000000</td>\n",
       "      <td>0.000000</td>\n",
       "      <td>0.000000</td>\n",
       "      <td>0.000000</td>\n",
       "      <td>0.000000</td>\n",
       "      <td>0.000000</td>\n",
       "      <td>0.000000</td>\n",
       "      <td>0.000000</td>\n",
       "      <td>0.000000</td>\n",
       "    </tr>\n",
       "    <tr>\n",
       "      <th>25%</th>\n",
       "      <td>0.031645</td>\n",
       "      <td>0.463959</td>\n",
       "      <td>0.473000</td>\n",
       "      <td>0.181818</td>\n",
       "      <td>0.731323</td>\n",
       "      <td>0.000000</td>\n",
       "      <td>0.037306</td>\n",
       "      <td>0.016767</td>\n",
       "      <td>0.000000</td>\n",
       "      <td>0.097900</td>\n",
       "      <td>0.261307</td>\n",
       "      <td>0.408083</td>\n",
       "      <td>0.800000</td>\n",
       "    </tr>\n",
       "    <tr>\n",
       "      <th>50%</th>\n",
       "      <td>0.039098</td>\n",
       "      <td>0.588832</td>\n",
       "      <td>0.685000</td>\n",
       "      <td>0.454545</td>\n",
       "      <td>0.786730</td>\n",
       "      <td>1.000000</td>\n",
       "      <td>0.050777</td>\n",
       "      <td>0.168675</td>\n",
       "      <td>0.000041</td>\n",
       "      <td>0.132000</td>\n",
       "      <td>0.465327</td>\n",
       "      <td>0.501364</td>\n",
       "      <td>0.800000</td>\n",
       "    </tr>\n",
       "    <tr>\n",
       "      <th>75%</th>\n",
       "      <td>0.048438</td>\n",
       "      <td>0.705584</td>\n",
       "      <td>0.854000</td>\n",
       "      <td>0.727273</td>\n",
       "      <td>0.823613</td>\n",
       "      <td>1.000000</td>\n",
       "      <td>0.087876</td>\n",
       "      <td>0.597390</td>\n",
       "      <td>0.048800</td>\n",
       "      <td>0.274000</td>\n",
       "      <td>0.686432</td>\n",
       "      <td>0.575567</td>\n",
       "      <td>0.800000</td>\n",
       "    </tr>\n",
       "    <tr>\n",
       "      <th>max</th>\n",
       "      <td>1.000000</td>\n",
       "      <td>0.998985</td>\n",
       "      <td>1.000000</td>\n",
       "      <td>1.000000</td>\n",
       "      <td>0.963783</td>\n",
       "      <td>1.000000</td>\n",
       "      <td>1.000000</td>\n",
       "      <td>1.000000</td>\n",
       "      <td>1.000000</td>\n",
       "      <td>1.000000</td>\n",
       "      <td>1.000000</td>\n",
       "      <td>0.914670</td>\n",
       "      <td>1.000000</td>\n",
       "    </tr>\n",
       "  </tbody>\n",
       "</table>\n",
       "</div>"
      ],
      "text/plain": [
       "        duration_ms  danceability        energy           key      loudness  \\\n",
       "count  90839.000000  90839.000000  90839.000000  90839.000000  90839.000000   \n",
       "mean       0.041988      0.575899      0.642366      0.482775      0.763694   \n",
       "std        0.020364      0.176021      0.250962      0.323799      0.092578   \n",
       "min        0.000000      0.000000      0.000000      0.000000      0.000000   \n",
       "25%        0.031645      0.463959      0.473000      0.181818      0.731323   \n",
       "50%        0.039098      0.588832      0.685000      0.454545      0.786730   \n",
       "75%        0.048438      0.705584      0.854000      0.727273      0.823613   \n",
       "max        1.000000      0.998985      1.000000      1.000000      0.963783   \n",
       "\n",
       "               mode   speechiness  acousticness  instrumentalness  \\\n",
       "count  90839.000000  90839.000000  90839.000000      90839.000000   \n",
       "mean       0.637149      0.088038      0.314938          0.155720   \n",
       "std        0.480825      0.110068      0.333138          0.309283   \n",
       "min        0.000000      0.000000      0.000000          0.000000   \n",
       "25%        0.000000      0.037306      0.016767          0.000000   \n",
       "50%        1.000000      0.050777      0.168675          0.000041   \n",
       "75%        1.000000      0.087876      0.597390          0.048800   \n",
       "max        1.000000      1.000000      1.000000          1.000000   \n",
       "\n",
       "           liveness       valence         tempo  time_signature  \n",
       "count  90839.000000  90839.000000  90839.000000    90839.000000  \n",
       "mean       0.213835      0.476308      0.502021        0.780980  \n",
       "std        0.190852      0.260495      0.123249        0.086178  \n",
       "min        0.000000      0.000000      0.000000        0.000000  \n",
       "25%        0.097900      0.261307      0.408083        0.800000  \n",
       "50%        0.132000      0.465327      0.501364        0.800000  \n",
       "75%        0.274000      0.686432      0.575567        0.800000  \n",
       "max        1.000000      1.000000      0.914670        1.000000  "
      ]
     },
     "execution_count": 206,
     "metadata": {},
     "output_type": "execute_result"
    }
   ],
   "source": [
    "X.describe()"
   ]
  },
  {
   "cell_type": "code",
   "execution_count": 207,
   "id": "179838ca",
   "metadata": {},
   "outputs": [
    {
     "data": {
      "text/plain": [
       "count    90839.000000\n",
       "mean         0.010590\n",
       "std          0.102363\n",
       "min          0.000000\n",
       "25%          0.000000\n",
       "50%          0.000000\n",
       "75%          0.000000\n",
       "max          1.000000\n",
       "Name: pop_class, dtype: float64"
      ]
     },
     "execution_count": 207,
     "metadata": {},
     "output_type": "execute_result"
    }
   ],
   "source": [
    "y.describe()"
   ]
  },
  {
   "cell_type": "code",
   "execution_count": 30,
   "id": "d79d310b",
   "metadata": {},
   "outputs": [],
   "source": [
    "# # Looping to separate datas in train and test\n",
    "for train_index, val_index in StratifiedKFold.split(X,y):\n",
    "    X_train, X_val = X.iloc[train_index], X.iloc[val_index]\n",
    "    y_train, y_val = y.iloc[train_index], y.iloc[val_index]"
   ]
  },
  {
   "cell_type": "code",
   "execution_count": 31,
   "id": "f8a88bbb",
   "metadata": {},
   "outputs": [
    {
     "name": "stdout",
     "output_type": "stream",
     "text": [
      "Dimentions: ((72672, 13), (18167, 13), (72672,), (18167,)) \n",
      "\n",
      "Proportion of df_train for class = 1: 0.0106\n",
      "\n",
      "Proportion of X_train for class=1: 0.0106\n",
      "\n",
      "Proportion of X_val for class=1: 0.0106\n",
      "\n"
     ]
    }
   ],
   "source": [
    "# # Checking the proportions of class 1 in the division\n",
    "print(f\"Dimentions: {X_train.shape, X_val.shape, y_train.shape, y_val.shape} \\n\")\n",
    "print(f\"Proportion of df_train for class = 1: {round(len(df_train[df_train.pop_class==1]) / df_train.shape[0], 4)}\\n\")\n",
    "print(f\"Proportion of X_train for class=1: {round(len(y_train[y_train==1]) / X_train.shape[0], 4)}\\n\")\n",
    "print(f\"Proportion of X_val for class=1: {round(len(y_val[y_val==1]) / X_val.shape[0], 4)}\\n\")"
   ]
  },
  {
   "cell_type": "markdown",
   "id": "30eab46c",
   "metadata": {},
   "source": [
    "Both sets have the same proportion in the response variable. From now on, we will work only with the training and test datasets for final validation."
   ]
  },
  {
   "cell_type": "markdown",
   "id": "84434448",
   "metadata": {},
   "source": [
    "## Defining the baseline"
   ]
  },
  {
   "cell_type": "markdown",
   "id": "8a119ef4",
   "metadata": {},
   "source": [
    "A baseline is the result of a very basic model/solution. You typically create a baseline and then attempt more complex solutions to achieve a better result. If you can score better than the baseline, that's a good sign."
   ]
  },
  {
   "cell_type": "markdown",
   "id": "c5a64f42",
   "metadata": {},
   "source": [
    "First, I split the data into training and validation sets, and then I used StratifiedKFold, which splits the data for cross-validation while preserving the percentage of samples in each class."
   ]
  },
  {
   "cell_type": "code",
   "execution_count": 32,
   "id": "1f23c750",
   "metadata": {},
   "outputs": [],
   "source": [
    "# Instantiating the model\n",
    "logReg = LogisticRegression()\n",
    "\n",
    "# Training the model\n",
    "logReg.fit(X_train, y_train)\n",
    "\n",
    "# Prediction train\n",
    "y_pred_base_train = logReg.predict(X_train)\n",
    "\n",
    "# Prediction validation\n",
    "y_pred_base_val = logReg.predict(X_val)"
   ]
  },
  {
   "cell_type": "code",
   "execution_count": 33,
   "id": "21ef51fe",
   "metadata": {
    "scrolled": true
   },
   "outputs": [
    {
     "data": {
      "text/plain": [
       "[-1.1656257011602673,\n",
       " 2.177853847683026,\n",
       " -1.4509371669169657,\n",
       " 0.03178521895961475,\n",
       " 4.669393484759679,\n",
       " -0.07821555870277869,\n",
       " -0.3895659163943425,\n",
       " -1.764931094681648,\n",
       " -2.6650941554873597,\n",
       " -1.5591831614791476,\n",
       " -0.43473944016083127,\n",
       " -0.7057343475265041,\n",
       " -1.0058377606393227]"
      ]
     },
     "execution_count": 33,
     "metadata": {},
     "output_type": "execute_result"
    }
   ],
   "source": [
    "# Convert the coeficients into a Python list\n",
    "logReg.coef_.tolist()[0]"
   ]
  },
  {
   "cell_type": "markdown",
   "id": "dccaecec",
   "metadata": {},
   "source": [
    "**.tolist()** converts the Numpy array that contains the coeficients into a Python list."
   ]
  },
  {
   "cell_type": "code",
   "execution_count": 34,
   "id": "f407c9f4",
   "metadata": {},
   "outputs": [
    {
     "data": {
      "text/plain": [
       "Index(['duration_ms', 'danceability', 'energy', 'key', 'loudness', 'mode',\n",
       "       'speechiness', 'acousticness', 'instrumentalness', 'liveness',\n",
       "       'valence', 'tempo', 'time_signature'],\n",
       "      dtype='object')"
      ]
     },
     "execution_count": 34,
     "metadata": {},
     "output_type": "execute_result"
    }
   ],
   "source": [
    "df_coef = df_quantitative_nm.drop(columns='pop_class')\n",
    "df_coef.columns"
   ]
  },
  {
   "cell_type": "code",
   "execution_count": 35,
   "id": "686cf685",
   "metadata": {
    "scrolled": false
   },
   "outputs": [
    {
     "data": {
      "text/html": [
       "<div>\n",
       "<style scoped>\n",
       "    .dataframe tbody tr th:only-of-type {\n",
       "        vertical-align: middle;\n",
       "    }\n",
       "\n",
       "    .dataframe tbody tr th {\n",
       "        vertical-align: top;\n",
       "    }\n",
       "\n",
       "    .dataframe thead th {\n",
       "        text-align: right;\n",
       "    }\n",
       "</style>\n",
       "<table border=\"1\" class=\"dataframe\">\n",
       "  <thead>\n",
       "    <tr style=\"text-align: right;\">\n",
       "      <th></th>\n",
       "      <th>Features</th>\n",
       "      <th>Coef</th>\n",
       "    </tr>\n",
       "  </thead>\n",
       "  <tbody>\n",
       "    <tr>\n",
       "      <th>0</th>\n",
       "      <td>duration_ms</td>\n",
       "      <td>-1.165626</td>\n",
       "    </tr>\n",
       "    <tr>\n",
       "      <th>1</th>\n",
       "      <td>danceability</td>\n",
       "      <td>2.177854</td>\n",
       "    </tr>\n",
       "    <tr>\n",
       "      <th>2</th>\n",
       "      <td>energy</td>\n",
       "      <td>-1.450937</td>\n",
       "    </tr>\n",
       "    <tr>\n",
       "      <th>3</th>\n",
       "      <td>key</td>\n",
       "      <td>0.031785</td>\n",
       "    </tr>\n",
       "    <tr>\n",
       "      <th>4</th>\n",
       "      <td>loudness</td>\n",
       "      <td>4.669393</td>\n",
       "    </tr>\n",
       "    <tr>\n",
       "      <th>5</th>\n",
       "      <td>mode</td>\n",
       "      <td>-0.078216</td>\n",
       "    </tr>\n",
       "    <tr>\n",
       "      <th>6</th>\n",
       "      <td>speechiness</td>\n",
       "      <td>-0.389566</td>\n",
       "    </tr>\n",
       "    <tr>\n",
       "      <th>7</th>\n",
       "      <td>acousticness</td>\n",
       "      <td>-1.764931</td>\n",
       "    </tr>\n",
       "    <tr>\n",
       "      <th>8</th>\n",
       "      <td>instrumentalness</td>\n",
       "      <td>-2.665094</td>\n",
       "    </tr>\n",
       "    <tr>\n",
       "      <th>9</th>\n",
       "      <td>liveness</td>\n",
       "      <td>-1.559183</td>\n",
       "    </tr>\n",
       "    <tr>\n",
       "      <th>10</th>\n",
       "      <td>valence</td>\n",
       "      <td>-0.434739</td>\n",
       "    </tr>\n",
       "    <tr>\n",
       "      <th>11</th>\n",
       "      <td>tempo</td>\n",
       "      <td>-0.705734</td>\n",
       "    </tr>\n",
       "    <tr>\n",
       "      <th>12</th>\n",
       "      <td>time_signature</td>\n",
       "      <td>-1.005838</td>\n",
       "    </tr>\n",
       "  </tbody>\n",
       "</table>\n",
       "</div>"
      ],
      "text/plain": [
       "            Features      Coef\n",
       "0        duration_ms -1.165626\n",
       "1       danceability  2.177854\n",
       "2             energy -1.450937\n",
       "3                key  0.031785\n",
       "4           loudness  4.669393\n",
       "5               mode -0.078216\n",
       "6        speechiness -0.389566\n",
       "7       acousticness -1.764931\n",
       "8   instrumentalness -2.665094\n",
       "9           liveness -1.559183\n",
       "10           valence -0.434739\n",
       "11             tempo -0.705734\n",
       "12    time_signature -1.005838"
      ]
     },
     "execution_count": 35,
     "metadata": {},
     "output_type": "execute_result"
    }
   ],
   "source": [
    "data = {\n",
    "    \"Features\": df_coef.columns,\n",
    "    \"Coef\": logReg.coef_.tolist()[0]\n",
    "}\n",
    "\n",
    "df_ML = pd.DataFrame(data)\n",
    "df_ML"
   ]
  },
  {
   "cell_type": "markdown",
   "id": "36e818a4",
   "metadata": {},
   "source": [
    "## Validating the baseline"
   ]
  },
  {
   "cell_type": "code",
   "execution_count": 36,
   "id": "b1e53fca",
   "metadata": {},
   "outputs": [
    {
     "name": "stdout",
     "output_type": "stream",
     "text": [
      "In the TRAINING data:\n",
      "------------------------------------------------------------\n",
      "Model:    Logistic Regression (baseline)\n",
      "\n",
      "accuracy:  0.9894044473800088\n",
      "precision: 0.0\n",
      "recall:    0.0\n",
      "f1:        0.0\n",
      "\n",
      "------------------------------------------------------------\n",
      "------------------------------------------------------------\n",
      "\n",
      "In the VALIDATION data:\n",
      "------------------------------------------------------------\n",
      "Model:    Logistic Regression (baseline)\n",
      "\n",
      "accuracy:  0.9894313865800628\n",
      "precision: 0.0\n",
      "recall:    0.0\n",
      "f1:        0.0\n",
      "------------------------------------------------------------\n"
     ]
    }
   ],
   "source": [
    "print('In the TRAINING data:')\n",
    "\n",
    "print('---' * 20)\n",
    "print('Model:    Logistic Regression (baseline)\\n')\n",
    "print(f\"accuracy:  {accuracy_score(y_train, y_pred_base_train)}\")\n",
    "print(f\"precision: {precision_score(y_train, y_pred_base_train)}\")\n",
    "print(f\"recall:    {recall_score(y_train, y_pred_base_train)}\")\n",
    "print(f\"f1:        {f1_score(y_train, y_pred_base_train)}\")\n",
    "print()\n",
    "print('---' * 20)\n",
    "print('---' * 20)\n",
    "print()\n",
    "print('In the VALIDATION data:')\n",
    "print('---' * 20)\n",
    "print('Model:    Logistic Regression (baseline)\\n')\n",
    "print(f\"accuracy:  {accuracy_score(y_val, y_pred_base_val)}\")\n",
    "print(f\"precision: {precision_score(y_val, y_pred_base_val)}\")\n",
    "print(f\"recall:    {recall_score(y_val, y_pred_base_val)}\")\n",
    "print(f\"f1:        {f1_score(y_val, y_pred_base_val)}\")\n",
    "print('---' * 20)\n",
    "     "
   ]
  },
  {
   "cell_type": "markdown",
   "id": "6eea3e31",
   "metadata": {},
   "source": [
    "## Resampling, testing and validation"
   ]
  },
  {
   "cell_type": "code",
   "execution_count": 37,
   "id": "f8e36175",
   "metadata": {},
   "outputs": [],
   "source": [
    "# Dictionary of classifiers \n",
    "classifiers = {\n",
    "    \"LogisticRegression\": LogisticRegression(),\n",
    "    \"KNearest\": KNeighborsClassifier(),\n",
    "    \"DecisionTreeClassifier\": DecisionTreeClassifier(),\n",
    "    \"Random Forest\": RandomForestClassifier()\n",
    "}"
   ]
  },
  {
   "cell_type": "markdown",
   "id": "12c697df",
   "metadata": {},
   "source": [
    "## Distribution (Random UnderSampling)"
   ]
  },
  {
   "cell_type": "markdown",
   "id": "c044ffe1",
   "metadata": {},
   "source": [
    "For this undersampling, we will use one of the NearMiss methods from the imbalanced-learn (imblearn) library, which selects samples based on the distance between the majority class and the minority class samples, essentially using the KNN model in its framework.\n",
    "\n",
    "There are three versions of this method: NearMiss1, NearMiss2, and NearMiss3. For this test, we will use version 1, which is the default when no parameters are passed."
   ]
  },
  {
   "cell_type": "code",
   "execution_count": 38,
   "id": "5b69a539",
   "metadata": {},
   "outputs": [
    {
     "name": "stdout",
     "output_type": "stream",
     "text": [
      "Counter({0.0: 770, 1.0: 770})\n"
     ]
    }
   ],
   "source": [
    "# Instantiating the model\n",
    "undersample = NearMiss()\n",
    "\n",
    "# Transforming datasets\n",
    "X_under, y_under = undersample.fit_resample(X_train, y_train)\n",
    "\n",
    "# Summarizing the distribution of the new class\n",
    "counter = Counter(y_under)\n",
    "print(counter)"
   ]
  },
  {
   "cell_type": "markdown",
   "id": "c5573d51",
   "metadata": {},
   "source": [
    "**Counter()** is a function from Python's collections module that counts the frequency of elements in an iterable (like lists, strings, or tuples). It returns a dictionary where the keys are the elements and the values represent the number of times each element appears."
   ]
  },
  {
   "cell_type": "code",
   "execution_count": 39,
   "id": "4502005a",
   "metadata": {},
   "outputs": [
    {
     "name": "stdout",
     "output_type": "stream",
     "text": [
      "Model:    LogisticRegression\n",
      "\n",
      "Accuracy:  0.2174822480321462\n",
      "precision: 0.008343850792315243\n",
      "recall:    0.6197916666666666\n",
      "f1:        0.016466030164660302\n",
      "------------------------------------------------------------\n",
      "------------------------------------------------------------\n",
      "Model:    KNearest\n",
      "\n",
      "Accuracy:  0.17735454395332195\n",
      "precision: 0.009443373013234023\n",
      "recall:    0.7395833333333334\n",
      "f1:        0.018648630901569374\n",
      "------------------------------------------------------------\n",
      "------------------------------------------------------------\n",
      "Model:    DecisionTreeClassifier\n",
      "\n",
      "Accuracy:  0.1811526394011119\n",
      "precision: 0.011380274191401571\n",
      "recall:    0.890625\n",
      "f1:        0.022473386778814563\n",
      "------------------------------------------------------------\n",
      "------------------------------------------------------------\n",
      "Model:    Random Forest\n",
      "\n",
      "Accuracy:  0.03407276930698519\n",
      "precision: 0.010436646733611644\n",
      "recall:    0.9635416666666666\n",
      "f1:        0.020649626074338654\n",
      "------------------------------------------------------------\n",
      "------------------------------------------------------------\n"
     ]
    }
   ],
   "source": [
    "for name, model in classifiers.items():\n",
    "    \n",
    "    model.fit(X_under, y_under)\n",
    "    y_pred = model.predict(X_val)\n",
    "    \n",
    "    print(f\"Model:    {name}\\n\")\n",
    "    print(f\"Accuracy:  {accuracy_score(y_val, y_pred)}\")\n",
    "    print(f\"precision: {precision_score(y_val, y_pred)}\")\n",
    "    print(f\"recall:    {recall_score(y_val, y_pred)}\")\n",
    "    print(f\"f1:        {f1_score(y_val, y_pred)}\")\n",
    "    print('---' * 20)\n",
    "    print('---' * 20)"
   ]
  },
  {
   "cell_type": "markdown",
   "id": "8a3f998b",
   "metadata": {},
   "source": [
    "## Distribution (Random Over-Sampling)"
   ]
  },
  {
   "cell_type": "markdown",
   "id": "b5db2fa3",
   "metadata": {},
   "source": [
    "This method consists of adding a random set of copies of the minority class samples to the data, which can increase the likelihood of overfitting. However, it may also result in increased computational cost when training the model, especially considering that the model will be seeing the same samples in the training set again."
   ]
  },
  {
   "cell_type": "code",
   "execution_count": 40,
   "id": "5e813426",
   "metadata": {},
   "outputs": [
    {
     "name": "stdout",
     "output_type": "stream",
     "text": [
      "Counter({0.0: 71902, 1.0: 71902})\n"
     ]
    }
   ],
   "source": [
    "# Instantiating the model\n",
    "oversample = RandomOverSampler(sampling_strategy='minority')\n",
    "\n",
    "# Transforming dataset\n",
    "X_over, y_over = oversample.fit_resample(X_train, y_train)\n",
    "\n",
    "# Summarizing the distribution of the new class\n",
    "counter = Counter(y_over)\n",
    "print(counter)"
   ]
  },
  {
   "cell_type": "code",
   "execution_count": 41,
   "id": "abdf3e8b",
   "metadata": {},
   "outputs": [
    {
     "name": "stdout",
     "output_type": "stream",
     "text": [
      "Model:    LogisticRegression\n",
      "\n",
      "Accuracy:  0.6138602961413552\n",
      "precision: 0.019439357656007888\n",
      "recall:    0.71875\n",
      "f1:        0.03785488958990536\n",
      "------------------------------------------------------------\n",
      "------------------------------------------------------------\n",
      "Model:    KNearest\n",
      "\n",
      "Accuracy:  0.9791930423294986\n",
      "precision: 0.27205882352941174\n",
      "recall:    0.578125\n",
      "f1:        0.37\n",
      "------------------------------------------------------------\n",
      "------------------------------------------------------------\n",
      "Model:    DecisionTreeClassifier\n",
      "\n",
      "Accuracy:  0.9834314966697859\n",
      "precision: 0.3438395415472779\n",
      "recall:    0.625\n",
      "f1:        0.4436229205175601\n",
      "------------------------------------------------------------\n",
      "------------------------------------------------------------\n",
      "Model:    Random Forest\n",
      "\n",
      "Accuracy:  0.988220399625695\n",
      "precision: 0.4576923076923077\n",
      "recall:    0.6197916666666666\n",
      "f1:        0.5265486725663716\n",
      "------------------------------------------------------------\n",
      "------------------------------------------------------------\n"
     ]
    }
   ],
   "source": [
    "for name, model in classifiers.items():\n",
    "    \n",
    "    model.fit(X_over, y_over)\n",
    "    y_pred = model.predict(X_val)\n",
    "    \n",
    "    print(f\"Model:    {name}\\n\")\n",
    "    print(f\"Accuracy:  {accuracy_score(y_val, y_pred)}\")\n",
    "    print(f\"precision: {precision_score(y_val, y_pred)}\")\n",
    "    print(f\"recall:    {recall_score(y_val, y_pred)}\")\n",
    "    print(f\"f1:        {f1_score(y_val, y_pred)}\")\n",
    "    print('---' * 20)\n",
    "    print('---' * 20)"
   ]
  },
  {
   "cell_type": "markdown",
   "id": "5a18d33b",
   "metadata": {},
   "source": [
    "## SMOTE (Over-Sampling)"
   ]
  },
  {
   "cell_type": "markdown",
   "id": "2b952a6b",
   "metadata": {},
   "source": [
    "SMOTE (Synthetic Minority Over-sampling Technique) is an oversampling technique used in machine learning to handle imbalanced datasets, where one class is significantly underrepresented compared to the other(s)."
   ]
  },
  {
   "cell_type": "code",
   "execution_count": 226,
   "id": "05aa007e",
   "metadata": {},
   "outputs": [
    {
     "name": "stdout",
     "output_type": "stream",
     "text": [
      "Counter({0.0: 71902, 1.0: 71902})\n"
     ]
    }
   ],
   "source": [
    "# Instantiating the model\n",
    "oversample_smote = SMOTE(sampling_strategy='minority')\n",
    "\n",
    "# Transforming dataset\n",
    "X_smote, y_smote = oversample_smote.fit_resample(X_train, y_train)\n",
    "\n",
    "# Summarizing the distribution of the new class\n",
    "counter = Counter(y_smote)\n",
    "print(counter)"
   ]
  },
  {
   "cell_type": "code",
   "execution_count": 228,
   "id": "72b51199",
   "metadata": {},
   "outputs": [
    {
     "name": "stdout",
     "output_type": "stream",
     "text": [
      "Model:    LogisticRegression\n",
      "\n",
      "Accuracy:  0.6312544723950019\n",
      "precision: 0.0207688908528502\n",
      "recall:    0.734375\n",
      "f1:        0.040395358831113025\n",
      "------------------------------------------------------------\n",
      "------------------------------------------------------------\n",
      "Model:    KNearest\n",
      "\n",
      "Accuracy:  0.9442395552375186\n",
      "precision: 0.11163670766319773\n",
      "recall:    0.6145833333333334\n",
      "f1:        0.188951160928743\n",
      "------------------------------------------------------------\n",
      "------------------------------------------------------------\n",
      "Model:    DecisionTreeClassifier\n",
      "\n",
      "Accuracy:  0.9645511091539605\n",
      "precision: 0.1695906432748538\n",
      "recall:    0.6041666666666666\n",
      "f1:        0.26484018264840176\n",
      "------------------------------------------------------------\n",
      "------------------------------------------------------------\n",
      "Model:    Random Forest\n",
      "\n",
      "Accuracy:  0.9884956239335058\n",
      "precision: 0.4641350210970464\n",
      "recall:    0.5729166666666666\n",
      "f1:        0.5128205128205129\n",
      "------------------------------------------------------------\n",
      "------------------------------------------------------------\n"
     ]
    }
   ],
   "source": [
    "for name, model in classifiers.items():\n",
    "    \n",
    "    model.fit(X_smote, y_smote)\n",
    "    y_pred = model.predict(X_val)\n",
    "    \n",
    "    print(f\"Model:    {name}\\n\")\n",
    "    print(f\"Accuracy:  {accuracy_score(y_val, y_pred)}\")\n",
    "    print(f\"precision: {precision_score(y_val, y_pred)}\")\n",
    "    print(f\"recall:    {recall_score(y_val, y_pred)}\")\n",
    "    print(f\"f1:        {f1_score(y_val, y_pred)}\")\n",
    "    print('---' * 20)\n",
    "    print('---' * 20)"
   ]
  },
  {
   "cell_type": "markdown",
   "id": "fef4f074",
   "metadata": {},
   "source": [
    "## Hybrid: Oversampling and Undersampling"
   ]
  },
  {
   "cell_type": "markdown",
   "id": "ccebf89b",
   "metadata": {},
   "source": [
    "The **hybrid** method combines oversampling and undersampling techniques to balance the data. It aims to capture the best of both worlds: increasing the amount of data for the minority class (oversampling) without leaving the majority class with an excessive number of samples (undersampling), which can reduce the risk of overfitting."
   ]
  },
  {
   "cell_type": "code",
   "execution_count": 229,
   "id": "f3a52529",
   "metadata": {},
   "outputs": [
    {
     "name": "stdout",
     "output_type": "stream",
     "text": [
      "Counter({0.0: 14380, 1.0: 7190})\n"
     ]
    }
   ],
   "source": [
    "# Transforming dataset\n",
    "over = RandomOverSampler(sampling_strategy=0.1)\n",
    "under = RandomUnderSampler(sampling_strategy=0.5)\n",
    "\n",
    "# Instantiating the model\n",
    "pipeline = Pipeline(steps=[('o', over), ('u', under)])\n",
    "\n",
    "# Transforming dataset\n",
    "X_under_over, y_under_over = pipeline.fit_resample(X_train, y_train)\n",
    "\n",
    "# Summarizing the distribution of the new class\n",
    "counter = Counter(y_under_over)\n",
    "print(counter)"
   ]
  },
  {
   "cell_type": "code",
   "execution_count": 230,
   "id": "a15fb837",
   "metadata": {},
   "outputs": [
    {
     "name": "stdout",
     "output_type": "stream",
     "text": [
      "Model:    LogisticRegression\n",
      "\n",
      "Accuracy:  0.874772939946056\n",
      "precision: 0.02723558783477077\n",
      "recall:    0.3125\n",
      "f1:        0.05010438413361169\n",
      "------------------------------------------------------------\n",
      "------------------------------------------------------------\n",
      "Model:    KNearest\n",
      "\n",
      "Accuracy:  0.9133593879011395\n",
      "precision: 0.07917174177831912\n",
      "recall:    0.6770833333333334\n",
      "f1:        0.14176663031624864\n",
      "------------------------------------------------------------\n",
      "------------------------------------------------------------\n",
      "Model:    DecisionTreeClassifier\n",
      "\n",
      "Accuracy:  0.9599273407827379\n",
      "precision: 0.15903307888040713\n",
      "recall:    0.6510416666666666\n",
      "f1:        0.2556237218813906\n",
      "------------------------------------------------------------\n",
      "------------------------------------------------------------\n",
      "Model:    Random Forest\n",
      "\n",
      "Accuracy:  0.9876699510100732\n",
      "precision: 0.4411764705882353\n",
      "recall:    0.625\n",
      "f1:        0.5172413793103449\n",
      "------------------------------------------------------------\n",
      "------------------------------------------------------------\n"
     ]
    }
   ],
   "source": [
    "for name, model in classifiers.items():\n",
    "    \n",
    "    model.fit(X_under_over, y_under_over)\n",
    "    y_pred = model.predict(X_val)\n",
    "    \n",
    "    print(f\"Model:    {name}\\n\")\n",
    "    print(f\"Accuracy:  {accuracy_score(y_val, y_pred)}\")\n",
    "    print(f\"precision: {precision_score(y_val, y_pred)}\")\n",
    "    print(f\"recall:    {recall_score(y_val, y_pred)}\")\n",
    "    print(f\"f1:        {f1_score(y_val, y_pred)}\")\n",
    "    print('---' * 20)\n",
    "    print('---' * 20)"
   ]
  },
  {
   "cell_type": "markdown",
   "id": "5ffc8a44",
   "metadata": {},
   "source": [
    "## Model Evaluation"
   ]
  },
  {
   "cell_type": "markdown",
   "id": "0abae143",
   "metadata": {},
   "source": [
    "After testing many models, the model that performed best was Random Forest, so we will use this model. The chosen balancing method was Random Over-Sampling. "
   ]
  },
  {
   "cell_type": "markdown",
   "id": "ce11d597",
   "metadata": {},
   "source": [
    "### Tuning the selected model"
   ]
  },
  {
   "cell_type": "markdown",
   "id": "f66aa068",
   "metadata": {},
   "source": [
    "Let's define the hyperparameters to analyze the best performance with cross-validation, but first let's put the data in the format for the algorithm to receive.\n",
    "\n",
    "A high range of hyperparameters was not defined because of the amount of data that, in addition to requiring a lot of computational power, will also take a long time, even with RandomizedSearchCV instead of **GridSearchCV**.\n",
    "\n",
    "Cross-validation is a technique in which we evaluate whether the model generalizes, that is, whether the model performs well with different samples, without overfitting."
   ]
  },
  {
   "cell_type": "markdown",
   "id": "c8b89926",
   "metadata": {},
   "source": [
    "### Defining hyperparameters"
   ]
  },
  {
   "cell_type": "code",
   "execution_count": 42,
   "id": "9d4c2d04",
   "metadata": {},
   "outputs": [],
   "source": [
    "# Transforming the data\n",
    "X_train_array = X_train.values\n",
    "X_val_array = X_val.values\n",
    "y_train_array = y_train.values\n",
    "y_val_array = y_val.values"
   ]
  },
  {
   "cell_type": "code",
   "execution_count": 43,
   "id": "8eae88ba",
   "metadata": {},
   "outputs": [
    {
     "name": "stdout",
     "output_type": "stream",
     "text": [
      "{'n_estimators': [3, 5, 10, 100], 'max_features': [3, 4, 5, 6, None], 'max_depth': [3, 4, 5, 6, None], 'class_weight': ['balanced', None]}\n"
     ]
    }
   ],
   "source": [
    "# Random Forest hyperparameters\n",
    "\n",
    "# Number of tree\n",
    "n_estimators = [3, 5, 10, 100]\n",
    "\n",
    "# Number of features to consider in each split\n",
    "max_features = [3, 4, 5, 6, None]\n",
    "\n",
    "# Max  number of tree levels\n",
    "max_depth = [3, 4, 5, 6, None]\n",
    "\n",
    "# Weights for each class\n",
    "class_weight = ['balanced', None]\n",
    "\n",
    "# Placing the defined parameters in a dictionary\n",
    "random_grid = {'n_estimators': n_estimators,\n",
    "              'max_features': max_features,\n",
    "              'max_depth': max_depth,\n",
    "              'class_weight': class_weight}\n",
    "\n",
    "# Displaying the parameters\n",
    "print(random_grid)"
   ]
  },
  {
   "cell_type": "markdown",
   "id": "58eaf4ec",
   "metadata": {},
   "source": [
    "## Random Forest + Distribution (Random Over-Sampling)"
   ]
  },
  {
   "cell_type": "code",
   "execution_count": 45,
   "id": "8b2b8bf6",
   "metadata": {},
   "outputs": [
    {
     "name": "stdout",
     "output_type": "stream",
     "text": [
      "kfold nº: 1\n",
      "Intermediate time: 9.0 minuts\n",
      "\n",
      "kfold nº: 2\n",
      "Intermediate time: 17.7 minuts\n",
      "\n",
      "kfold nº: 3\n",
      "Intermediate time: 26.6 minuts\n",
      "\n",
      "kfold nº: 4\n",
      "Intermediate time: 35.3 minuts\n",
      "\n",
      "kfold nº: 5\n",
      "Intermediate time: 44.5 minuts\n",
      "\n",
      "------------------------------------------------------------\n",
      "Best estimators for RF: {'n_estimators': 100, 'max_features': 6, 'max_depth': None, 'class_weight': 'balanced'}\n",
      "------------------------------------------------------------\n",
      "Results\n",
      "accuracy:  0.9877807140856483\n",
      "precision: 0.4381068531266571\n",
      "recall:    0.5415584415584416\n",
      "f1:        0.48404304925123676\n",
      "AUC:       0.7670588777481836\n",
      "------------------------------------------------------------\n",
      "Loop time for cross-validation: 44.5 minuts\n"
     ]
    }
   ],
   "source": [
    "# Defining empty list to receive cross validation results\n",
    "accuracy_lst_rf = []\n",
    "precision_lst_rf = []\n",
    "recall_lst_rf = []\n",
    "f1_lst_rf = []\n",
    "auc_lst_rf = []\n",
    "\n",
    "# Instantiating RandomizedSearchCV for cross-validation with the parameter grid\n",
    "rf_grid = RandomizedSearchCV(RandomForestClassifier(), random_grid, random_state=42)\n",
    "\n",
    "# Starting the time and counter for the loop\n",
    "start = time.time()\n",
    "count = 0\n",
    "\n",
    "# Cross validation looping\n",
    "for train, test in StratifiedKFold.split(X_train_array, y_train_array):\n",
    "    \n",
    "    # Instantiating the pipeline with resampling technique\n",
    "    pipeline_rf = imbalanced_make_pipeline(RandomOverSampler(sampling_strategy='minority'), rf_grid)\n",
    "    \n",
    "    # Running the pipeline to train the model\n",
    "    model_rf = pipeline_rf.fit(X_train_array[train], y_train_array[train])\n",
    "    \n",
    "    # Identifying the best treatment parameters\n",
    "    best_est_rf = rf_grid.best_estimator_\n",
    "    \n",
    "    # Performing predictions with the training result\n",
    "    prediction_rf = best_est_rf.predict(X_train_array[test])\n",
    "    \n",
    "    # Storing the results\n",
    "    accuracy_lst_rf.append(pipeline_rf.score(X_train_array[test], y_train_array[test]))\n",
    "    precision_lst_rf.append(precision_score(y_train_array[test], prediction_rf))\n",
    "    recall_lst_rf.append(recall_score(y_train_array[test], prediction_rf))\n",
    "    f1_lst_rf.append(f1_score(y_train_array[test], prediction_rf))\n",
    "    auc_lst_rf.append(roc_auc_score(y_train_array[test], prediction_rf))\n",
    "    \n",
    "    # Identifying the loop\n",
    "    count += 1\n",
    "    print(f\"kfold nº: {count}\")\n",
    "    \n",
    "    # Measuring the time of each loop\n",
    "    interval = time.time()\n",
    "    print(f\"Intermediate time: {(interval - start) /60:.1f} minuts\")\n",
    "    print()\n",
    "\n",
    "print('---' * 20)\n",
    "print(f\"Best estimators for RF: {rf_grid.best_params_}\")\n",
    "\n",
    "# Printing the average of the cross-validation results\n",
    "print('---' * 20)\n",
    "print('Results')\n",
    "print(f\"accuracy:  {np.mean(accuracy_lst_rf)}\")\n",
    "print(f\"precision: {np.mean(precision_lst_rf)}\")\n",
    "print(f\"recall:    {np.mean(recall_lst_rf)}\")\n",
    "print(f\"f1:        {np.mean(f1_lst_rf)}\")\n",
    "print(f\"AUC:       {np.mean(auc_lst_rf)}\")\n",
    "print('---' * 20)\n",
    "\n",
    "# Printing the total cross-validation time\n",
    "end = time.time()\n",
    "print(f\"Loop time for cross-validation: {(end - start)/60:.1f} minuts\")"
   ]
  },
  {
   "cell_type": "markdown",
   "id": "30c4af20",
   "metadata": {},
   "source": [
    "## Evaluation of the fitted model"
   ]
  },
  {
   "cell_type": "markdown",
   "id": "3906cdfe",
   "metadata": {},
   "source": [
    "### Analysis of key ranking metrics\n",
    "\n",
    "**Random Forest with OverSampling**\n",
    "\n",
    "* accuracy:  0.9877394344158856\n",
    "* precision: 0.43665188351526296\n",
    "* recall:    0.5415584415584416\n",
    "* f1:        0.48319577340396086\n",
    "* AUC:       0.7670380168901069"
   ]
  },
  {
   "cell_type": "markdown",
   "id": "8ca1a8bf",
   "metadata": {},
   "source": [
    "Random Forest showed better metrics compared to the baseline estabelished at the beginning, so I will continue with it."
   ]
  },
  {
   "cell_type": "markdown",
   "id": "96b0d415",
   "metadata": {},
   "source": [
    "### ROC-AUC curve\n",
    "\n",
    "A Receiver Operating Characteristic Curve (ROC curve) is a graphical representation that illustrates the performance of a binary classification system as its discrimination threshold varies. The ROC curve is also known as the relative operating characteristic curve because its change criterion results from the operation of two characteristics (TP and FP).\n",
    "\n",
    "The ROC curve has two parameters:\n",
    "\n",
    "* True Positive Rate (TPR), which is given by TP/(TP + FN)\n",
    "* False Positive Rate (FPR), which is given by FP / (FP + TN)\n",
    "\n",
    "The more the value is to the upper left, the better the performance, and we will create a function to perform cross-validation by plotting the result of each split and finally taking the average of the result.\n",
    "\n",
    "AUC provides an aggregated measure of performance across all possible classification thresholds, meaning it represents the probability that the model ranks a random positive example higher than a random negative example."
   ]
  },
  {
   "cell_type": "code",
   "execution_count": 61,
   "id": "8fa05080",
   "metadata": {},
   "outputs": [
    {
     "data": {
      "image/png": "[encoded data removed]",
      "text/plain": [
       "<Figure size 640x480 with 1 Axes>"
      ]
     },
     "metadata": {},
     "output_type": "display_data"
    }
   ],
   "source": [
    "# Create a StratifiedKFold instance\n",
    "cv = StratifiedKFold(n_splits=5)\n",
    "\n",
    "# Creating a function to plot the graph\n",
    "def draw_cv_roc_curve(classifier, cv, X, y, title='ROC Curve'):\n",
    "    # Defining some empty lists to store the results\n",
    "    tprs = []\n",
    "    aucs = []\n",
    "    mean_fpr = np.linspace(0, 1, 100)\n",
    "    \n",
    "    # Defining the counter\n",
    "    i = 0\n",
    "    \n",
    "    # Loop for cross-validation\n",
    "    for train, test in cv.split(X, y):\n",
    "        # Executing the function and storing the probabilities of the results\n",
    "        probas_ = classifier.fit(X.iloc[train], y.iloc[train]).predict_proba(X.iloc[test])\n",
    "        \n",
    "        # Computing the ROC curve and AUC\n",
    "        fpr, tpr, thresholds = roc_curve(y.iloc[test], probas_[:, 1])\n",
    "        tprs.append(np.interp(mean_fpr, fpr, tpr))\n",
    "        tprs[-1][0] = 0.0\n",
    "        roc_auc = auc(fpr, tpr)\n",
    "        aucs.append(roc_auc)\n",
    "\n",
    "        # Plotting the ROC curve of the cross-validation individually\n",
    "        plt.plot(fpr, tpr, lw=1, alpha=0.3,\n",
    "                label='ROC fold %d (AUC = %0.2f)' % (i, roc_auc))\n",
    "        \n",
    "        i += 1\n",
    "        \n",
    "    # Plotting the diagonal line as a 50/50 rate reference\n",
    "    plt.plot([0, 1], [0, 1], linestyle='--', lw=2, color='r',\n",
    "            label='Luck', alpha=0.8)\n",
    "    \n",
    "    # Calculating the means and standard deviation \n",
    "    mean_tpr = np.mean(tprs, axis=0)\n",
    "    mean_tpr[-1] = 1.0\n",
    "    mean_auc = auc(mean_fpr, mean_tpr)\n",
    "    std_auc = np.std(aucs)\n",
    "    \n",
    "    # Plotting ROC curve with results mean\n",
    "    plt.plot(mean_fpr, mean_tpr, color='b',\n",
    "            label=r'Mean ROC (AUC = %0.2f +- %0.2f)' % (mean_auc, std_auc),\n",
    "            lw=2, alpha=.8)\n",
    "    \n",
    "    std_tpr = np.std(tprs, axis=0)\n",
    "    tprs_upper = np.minimum(mean_tpr + std_tpr, 1)\n",
    "    tprs_lower = np.maximum(mean_tpr - std_tpr, 0)\n",
    "    plt.fill_between(mean_fpr, tprs_lower, tprs_upper, color='grey', alpha=.2,\n",
    "                    label=r'+- 1 std. dev.')\n",
    "    \n",
    "    # Customizing the graph\n",
    "    plt.xlim([-0.05, 1.05])\n",
    "    plt.ylim([-0.05, 1.05])\n",
    "    plt.xlabel('False Positive Rate', fontsize=12)\n",
    "    plt.ylabel('True Positive Rate', fontsize=12)\n",
    "    plt.title(title)\n",
    "    plt.legend(loc='lower right')  # Correção aqui\n",
    "    \n",
    "    # Showing the graph\n",
    "    plt.show()\n",
    "\n",
    "# Executing the function and plotting the ROC AUC curve\n",
    "draw_cv_roc_curve(best_est_rf, cv, X_train, y_train, title='ROC Curve')"
   ]
  },
  {
   "cell_type": "markdown",
   "id": "f8985523",
   "metadata": {},
   "source": [
    "## Final Model\n",
    "\n",
    "After validating the model, I will use all the data from X and y from the training dataset for the final model with the best hyperparameters found during validation, defining the pipeline and training the model"
   ]
  },
  {
   "cell_type": "markdown",
   "id": "f7c7344d",
   "metadata": {},
   "source": [
    "## Model Training \n",
    "\n",
    "I will train the model with the best hyperparameters found, execute the pipeline with OverSampling and tuned Random Forest, and finally, the model will be trained"
   ]
  },
  {
   "cell_type": "code",
   "execution_count": 63,
   "id": "d78235b5",
   "metadata": {},
   "outputs": [],
   "source": [
    "# Separating the data again\n",
    "X_all = df_train.drop('pop_class', axis=1)\n",
    "y_all = df_train.pop_class\n",
    "\n",
    "# Instantiating the final model with the parameters found during cross-validation\n",
    "final_model = rf_grid.best_estimator_\n",
    "\n",
    "# Defining the pipeline for oversampling resampling and the final model\n",
    "pipeline = imbalanced_make_pipeline(RandomOverSampler(sampling_strategy='minority'), final_model)\n",
    "\n",
    "# Training the model with the tuned parameters using all the data\n",
    "model = pipeline.fit(X_all, y_all)"
   ]
  },
  {
   "cell_type": "code",
   "execution_count": 64,
   "id": "04a45074",
   "metadata": {},
   "outputs": [
    {
     "data": {
      "text/plain": [
       "('randomforestclassifier',\n",
       " RandomForestClassifier(class_weight='balanced', max_features=6))"
      ]
     },
     "execution_count": 64,
     "metadata": {},
     "output_type": "execute_result"
    }
   ],
   "source": [
    "model.steps[1]"
   ]
  },
  {
   "cell_type": "code",
   "execution_count": 65,
   "id": "3e1c5d7a",
   "metadata": {},
   "outputs": [],
   "source": [
    "list = model.steps[1][1].feature_importances_"
   ]
  },
  {
   "cell_type": "code",
   "execution_count": 66,
   "id": "4b378cff",
   "metadata": {},
   "outputs": [
    {
     "name": "stdout",
     "output_type": "stream",
     "text": [
      "[0.08705526894362467, 0.09035009767475781, 0.11088533472412823, 0.03535912257668137, 0.12206130682043756, 0.005938103017407465, 0.0826875047712885, 0.10164561023447624, 0.11303969111718518, 0.0805939204048743, 0.0895891819031629, 0.07615154435529664, 0.004643313456679194]\n"
     ]
    }
   ],
   "source": [
    "print(list.tolist())"
   ]
  },
  {
   "cell_type": "code",
   "execution_count": 67,
   "id": "29dc6c01",
   "metadata": {},
   "outputs": [
    {
     "data": {
      "image/png": "[encoded data removed]",
      "text/plain": [
       "<Figure size 640x480 with 1 Axes>"
      ]
     },
     "metadata": {},
     "output_type": "display_data"
    }
   ],
   "source": [
    "# Names list\n",
    "names = df_quantitative_nm.columns\n",
    "\n",
    "plt.barh(df_quantitative_nm.drop(columns=['pop_class']).columns.tolist(), list.tolist())\n",
    "\n",
    "plt.show()"
   ]
  },
  {
   "cell_type": "markdown",
   "id": "0c29f12b",
   "metadata": {},
   "source": [
    "**Loudness** and **energy** have a high importance coefficient in the model. However, as we saw at the beginning, these two features are highly correlated. It might be worthwhile to revisit the data preprocessing step to eliminate the high correlation."
   ]
  },
  {
   "cell_type": "code",
   "execution_count": 68,
   "id": "cc8f321c",
   "metadata": {},
   "outputs": [],
   "source": [
    "# SUGGESTION FOR REMOVING CORRELATION IN THE DATA PREPROCESSING STEP\n",
    "\n",
    "\"\"\"Function that analyzes the correlation between the variables in the dataset, \n",
    "    creates a mask to remove mirrored data, and returns the data without the variables\n",
    "    that have a correlation greater than the cutoff value of 0.95.\"\"\"\n",
    "\n",
    "def remove_corr_var(datas, cutoff_value=0.95):\n",
    "    \n",
    "    matriz_corr = datas.iloc[:, 4:-2].corr().abs()\n",
    "    matriz_sup = matriz_corr.where(np.triu(np.ones(matriz_corr.shape), k=1).astype(np.bool))\n",
    "    exclude = [column for column in matriz_sup.columns if any(matriz_sup[column]> cutoff_value)]\n",
    "    \n",
    "    return datas.drop(exclude, axis=1)"
   ]
  },
  {
   "cell_type": "markdown",
   "id": "f8d87be3",
   "metadata": {},
   "source": [
    "## Preparation, Prediction, and Evaluation on the Test Data\n",
    "\n",
    "Here, we use the test dataset, which was split at the beginning, comprising 20% of the total data.\n",
    "\n",
    "Furthermore, the data has been separated, and the input of new data was simulated to check if our model generalizes well. The expected result is slightly lower than what was validated. If the result is significantly below expectations, it will be necessary to readjust the model because it has resulted in overfitting."
   ]
  },
  {
   "cell_type": "code",
   "execution_count": 69,
   "id": "5e4d819d",
   "metadata": {},
   "outputs": [
    {
     "name": "stdout",
     "output_type": "stream",
     "text": [
      "accuracy:  0.9880228974020255\n",
      "precision: 0.45179063360881544\n",
      "recall:    0.6919831223628692\n",
      "f1:        0.5466666666666666\n"
     ]
    }
   ],
   "source": [
    "# Separating the test data\n",
    "X_test = df_test.drop('pop_class', axis=1)\n",
    "y_test = df_test.pop_class\n",
    "\n",
    "# Making predictions on the test data\n",
    "y_pred_test = model.predict(X_test)\n",
    "\n",
    "# Priting the results\n",
    "print(f\"accuracy:  {accuracy_score(y_test, y_pred_test)}\")\n",
    "print(f\"precision: {precision_score(y_test, y_pred_test)}\")\n",
    "print(f\"recall:    {recall_score(y_test, y_pred_test)}\")\n",
    "print(f\"f1:        {f1_score(y_test, y_pred_test)}\")"
   ]
  },
  {
   "cell_type": "code",
   "execution_count": 70,
   "id": "b69221ae",
   "metadata": {},
   "outputs": [
    {
     "data": {
      "image/png": "[encoded data removed]",
      "text/plain": [
       "<Figure size 500x500 with 1 Axes>"
      ]
     },
     "metadata": {},
     "output_type": "display_data"
    }
   ],
   "source": [
    "plt.figure(figsize=(5,5))\n",
    "sns.heatmap(confusion_matrix(y_test, y_pred_test), annot=True, cmap=plt.cm.copper, fmt='g', cbar=False)\n",
    "plt.title(\"Confusion Matrix\", fontsize=16, fontweight='bold')\n",
    "plt.show()"
   ]
  },
  {
   "cell_type": "code",
   "execution_count": 71,
   "id": "92dad390",
   "metadata": {},
   "outputs": [
    {
     "data": {
      "text/html": [
       "<div>\n",
       "<style scoped>\n",
       "    .dataframe tbody tr th:only-of-type {\n",
       "        vertical-align: middle;\n",
       "    }\n",
       "\n",
       "    .dataframe tbody tr th {\n",
       "        vertical-align: top;\n",
       "    }\n",
       "\n",
       "    .dataframe thead th {\n",
       "        text-align: right;\n",
       "    }\n",
       "</style>\n",
       "<table border=\"1\" class=\"dataframe\">\n",
       "  <thead>\n",
       "    <tr style=\"text-align: right;\">\n",
       "      <th></th>\n",
       "      <th>accuracy</th>\n",
       "      <th>precision</th>\n",
       "      <th>recall</th>\n",
       "      <th>f1</th>\n",
       "    </tr>\n",
       "  </thead>\n",
       "  <tbody>\n",
       "    <tr>\n",
       "      <th>Baseline</th>\n",
       "      <td>0.989431</td>\n",
       "      <td>0.000000</td>\n",
       "      <td>0.000000</td>\n",
       "      <td>0.000000</td>\n",
       "    </tr>\n",
       "    <tr>\n",
       "      <th>Validation</th>\n",
       "      <td>0.987781</td>\n",
       "      <td>0.438107</td>\n",
       "      <td>0.541558</td>\n",
       "      <td>0.484043</td>\n",
       "    </tr>\n",
       "    <tr>\n",
       "      <th>Test</th>\n",
       "      <td>0.988023</td>\n",
       "      <td>0.451791</td>\n",
       "      <td>0.691983</td>\n",
       "      <td>0.546667</td>\n",
       "    </tr>\n",
       "  </tbody>\n",
       "</table>\n",
       "</div>"
      ],
      "text/plain": [
       "            accuracy  precision    recall        f1\n",
       "Baseline    0.989431   0.000000  0.000000  0.000000\n",
       "Validation  0.987781   0.438107  0.541558  0.484043\n",
       "Test        0.988023   0.451791  0.691983  0.546667"
      ]
     },
     "execution_count": 71,
     "metadata": {},
     "output_type": "execute_result"
    }
   ],
   "source": [
    "pd.DataFrame(index=['Baseline', 'Validation', 'Test'],\n",
    "             data = {\"accuracy\": [accuracy_score(y_val, y_pred_base_val), np.mean(accuracy_lst_rf), accuracy_score(y_test, y_pred_test)],\n",
    "                     \"precision\": [precision_score(y_val, y_pred_base_val), np.mean(precision_lst_rf), precision_score(y_test, y_pred_test)],\n",
    "                     \"recall\": [recall_score(y_val, y_pred_base_val), np.mean(recall_lst_rf), recall_score(y_test, y_pred_test)],\n",
    "                     \"f1\": [f1_score(y_val, y_pred_base_val), np.mean(f1_lst_rf), f1_score(y_test, y_pred_test)]})"
   ]
  },
  {
   "cell_type": "markdown",
   "id": "e2410a40",
   "metadata": {},
   "source": [
    "## Saving the Results"
   ]
  },
  {
   "cell_type": "code",
   "execution_count": 80,
   "id": "7c32e467",
   "metadata": {},
   "outputs": [
    {
     "name": "stdout",
     "output_type": "stream",
     "text": [
      "Model successfully saved to: model_version1\\RandomForestModel.pkl\n"
     ]
    }
   ],
   "source": [
    "folder_name = \"model_version1\"\n",
    "pkl_filename_model = os.path.join(folder_name, \"RandomForestModel.pkl\")\n",
    "\n",
    "os.makedirs(folder_name, exist_ok=True)\n",
    "\n",
    "try:\n",
    "    with open(pkl_filename_model, 'wb') as file:\n",
    "        pickle.dump(model, file)\n",
    "    print(f\"Model successfully saved to: {pkl_filename_model}\")\n",
    "    \n",
    "except Exception as e:\n",
    "    print(f\"An error occurred while saving the template: {e}\")"
   ]
  },
  {
   "cell_type": "code",
   "execution_count": 74,
   "id": "6a0c2a64",
   "metadata": {},
   "outputs": [],
   "source": [
    "# Storing the predictions in the test dataframe\n",
    "df_test['Predicted'] = y_pred_test\n",
    "\n",
    "# Comparing the actual values with the predicted values in the dataframe\n",
    "df_test['Correct?'] = np.where(df_test['pop_class'] == df_test['Predicted'], 'Yes', 'No')"
   ]
  },
  {
   "cell_type": "code",
   "execution_count": 75,
   "id": "2cc368ce",
   "metadata": {},
   "outputs": [
    {
     "data": {
      "text/html": [
       "<div>\n",
       "<style scoped>\n",
       "    .dataframe tbody tr th:only-of-type {\n",
       "        vertical-align: middle;\n",
       "    }\n",
       "\n",
       "    .dataframe tbody tr th {\n",
       "        vertical-align: top;\n",
       "    }\n",
       "\n",
       "    .dataframe thead th {\n",
       "        text-align: right;\n",
       "    }\n",
       "</style>\n",
       "<table border=\"1\" class=\"dataframe\">\n",
       "  <thead>\n",
       "    <tr style=\"text-align: right;\">\n",
       "      <th></th>\n",
       "      <th>duration_ms</th>\n",
       "      <th>danceability</th>\n",
       "      <th>energy</th>\n",
       "      <th>key</th>\n",
       "      <th>loudness</th>\n",
       "      <th>mode</th>\n",
       "      <th>speechiness</th>\n",
       "      <th>acousticness</th>\n",
       "      <th>instrumentalness</th>\n",
       "      <th>liveness</th>\n",
       "      <th>valence</th>\n",
       "      <th>tempo</th>\n",
       "      <th>time_signature</th>\n",
       "      <th>pop_class</th>\n",
       "      <th>Predicted</th>\n",
       "      <th>Correct?</th>\n",
       "    </tr>\n",
       "  </thead>\n",
       "  <tbody>\n",
       "    <tr>\n",
       "      <th>77407</th>\n",
       "      <td>0.038236</td>\n",
       "      <td>0.433503</td>\n",
       "      <td>0.703</td>\n",
       "      <td>0.818182</td>\n",
       "      <td>0.786564</td>\n",
       "      <td>1.0</td>\n",
       "      <td>0.050466</td>\n",
       "      <td>0.577309</td>\n",
       "      <td>0.000000</td>\n",
       "      <td>0.9350</td>\n",
       "      <td>0.703518</td>\n",
       "      <td>0.346959</td>\n",
       "      <td>0.8</td>\n",
       "      <td>0.0</td>\n",
       "      <td>0.0</td>\n",
       "      <td>Yes</td>\n",
       "    </tr>\n",
       "    <tr>\n",
       "      <th>96769</th>\n",
       "      <td>0.018514</td>\n",
       "      <td>0.661929</td>\n",
       "      <td>0.701</td>\n",
       "      <td>0.181818</td>\n",
       "      <td>0.764904</td>\n",
       "      <td>1.0</td>\n",
       "      <td>0.036062</td>\n",
       "      <td>0.534137</td>\n",
       "      <td>0.000002</td>\n",
       "      <td>0.6020</td>\n",
       "      <td>0.932663</td>\n",
       "      <td>0.649721</td>\n",
       "      <td>0.8</td>\n",
       "      <td>0.0</td>\n",
       "      <td>0.0</td>\n",
       "      <td>Yes</td>\n",
       "    </tr>\n",
       "    <tr>\n",
       "      <th>6993</th>\n",
       "      <td>0.032000</td>\n",
       "      <td>0.581726</td>\n",
       "      <td>0.976</td>\n",
       "      <td>0.090909</td>\n",
       "      <td>0.842110</td>\n",
       "      <td>0.0</td>\n",
       "      <td>0.185492</td>\n",
       "      <td>0.000046</td>\n",
       "      <td>0.022200</td>\n",
       "      <td>0.2720</td>\n",
       "      <td>0.316583</td>\n",
       "      <td>0.468501</td>\n",
       "      <td>0.8</td>\n",
       "      <td>0.0</td>\n",
       "      <td>0.0</td>\n",
       "      <td>Yes</td>\n",
       "    </tr>\n",
       "    <tr>\n",
       "      <th>75387</th>\n",
       "      <td>0.052745</td>\n",
       "      <td>0.285279</td>\n",
       "      <td>0.141</td>\n",
       "      <td>0.363636</td>\n",
       "      <td>0.562418</td>\n",
       "      <td>0.0</td>\n",
       "      <td>0.034611</td>\n",
       "      <td>0.981928</td>\n",
       "      <td>0.883000</td>\n",
       "      <td>0.1030</td>\n",
       "      <td>0.207035</td>\n",
       "      <td>0.556169</td>\n",
       "      <td>0.6</td>\n",
       "      <td>0.0</td>\n",
       "      <td>0.0</td>\n",
       "      <td>Yes</td>\n",
       "    </tr>\n",
       "    <tr>\n",
       "      <th>61284</th>\n",
       "      <td>0.053683</td>\n",
       "      <td>0.409137</td>\n",
       "      <td>0.921</td>\n",
       "      <td>0.818182</td>\n",
       "      <td>0.865194</td>\n",
       "      <td>1.0</td>\n",
       "      <td>0.113990</td>\n",
       "      <td>0.032731</td>\n",
       "      <td>0.000000</td>\n",
       "      <td>0.0985</td>\n",
       "      <td>0.576884</td>\n",
       "      <td>0.730667</td>\n",
       "      <td>0.8</td>\n",
       "      <td>0.0</td>\n",
       "      <td>0.0</td>\n",
       "      <td>Yes</td>\n",
       "    </tr>\n",
       "  </tbody>\n",
       "</table>\n",
       "</div>"
      ],
      "text/plain": [
       "       duration_ms  danceability  energy       key  loudness  mode  \\\n",
       "77407     0.038236      0.433503   0.703  0.818182  0.786564   1.0   \n",
       "96769     0.018514      0.661929   0.701  0.181818  0.764904   1.0   \n",
       "6993      0.032000      0.581726   0.976  0.090909  0.842110   0.0   \n",
       "75387     0.052745      0.285279   0.141  0.363636  0.562418   0.0   \n",
       "61284     0.053683      0.409137   0.921  0.818182  0.865194   1.0   \n",
       "\n",
       "       speechiness  acousticness  instrumentalness  liveness   valence  \\\n",
       "77407     0.050466      0.577309          0.000000    0.9350  0.703518   \n",
       "96769     0.036062      0.534137          0.000002    0.6020  0.932663   \n",
       "6993      0.185492      0.000046          0.022200    0.2720  0.316583   \n",
       "75387     0.034611      0.981928          0.883000    0.1030  0.207035   \n",
       "61284     0.113990      0.032731          0.000000    0.0985  0.576884   \n",
       "\n",
       "          tempo  time_signature  pop_class  Predicted Correct?  \n",
       "77407  0.346959             0.8        0.0        0.0      Yes  \n",
       "96769  0.649721             0.8        0.0        0.0      Yes  \n",
       "6993   0.468501             0.8        0.0        0.0      Yes  \n",
       "75387  0.556169             0.6        0.0        0.0      Yes  \n",
       "61284  0.730667             0.8        0.0        0.0      Yes  "
      ]
     },
     "execution_count": 75,
     "metadata": {},
     "output_type": "execute_result"
    }
   ],
   "source": [
    "df_test.head()"
   ]
  },
  {
   "cell_type": "code",
   "execution_count": 76,
   "id": "fc3b22bf",
   "metadata": {},
   "outputs": [
    {
     "data": {
      "text/html": [
       "<div>\n",
       "<style scoped>\n",
       "    .dataframe tbody tr th:only-of-type {\n",
       "        vertical-align: middle;\n",
       "    }\n",
       "\n",
       "    .dataframe tbody tr th {\n",
       "        vertical-align: top;\n",
       "    }\n",
       "\n",
       "    .dataframe thead th {\n",
       "        text-align: right;\n",
       "    }\n",
       "</style>\n",
       "<table border=\"1\" class=\"dataframe\">\n",
       "  <thead>\n",
       "    <tr style=\"text-align: right;\">\n",
       "      <th></th>\n",
       "      <th>duration_ms</th>\n",
       "      <th>danceability</th>\n",
       "      <th>energy</th>\n",
       "      <th>key</th>\n",
       "      <th>loudness</th>\n",
       "      <th>mode</th>\n",
       "      <th>speechiness</th>\n",
       "      <th>acousticness</th>\n",
       "      <th>instrumentalness</th>\n",
       "      <th>liveness</th>\n",
       "      <th>valence</th>\n",
       "      <th>tempo</th>\n",
       "      <th>time_signature</th>\n",
       "      <th>pop_class</th>\n",
       "      <th>Predicted</th>\n",
       "      <th>Correct?</th>\n",
       "    </tr>\n",
       "  </thead>\n",
       "  <tbody>\n",
       "    <tr>\n",
       "      <th>68854</th>\n",
       "      <td>0.053064</td>\n",
       "      <td>0.825381</td>\n",
       "      <td>0.560</td>\n",
       "      <td>0.181818</td>\n",
       "      <td>0.806966</td>\n",
       "      <td>0.0</td>\n",
       "      <td>0.064041</td>\n",
       "      <td>0.108434</td>\n",
       "      <td>0.000000</td>\n",
       "      <td>0.2680</td>\n",
       "      <td>0.288442</td>\n",
       "      <td>0.484990</td>\n",
       "      <td>0.8</td>\n",
       "      <td>1.0</td>\n",
       "      <td>0.0</td>\n",
       "      <td>No</td>\n",
       "    </tr>\n",
       "    <tr>\n",
       "      <th>20367</th>\n",
       "      <td>0.031304</td>\n",
       "      <td>0.612183</td>\n",
       "      <td>0.691</td>\n",
       "      <td>0.454545</td>\n",
       "      <td>0.808797</td>\n",
       "      <td>1.0</td>\n",
       "      <td>0.038549</td>\n",
       "      <td>0.024900</td>\n",
       "      <td>0.000000</td>\n",
       "      <td>0.5830</td>\n",
       "      <td>0.579899</td>\n",
       "      <td>0.604622</td>\n",
       "      <td>0.8</td>\n",
       "      <td>1.0</td>\n",
       "      <td>0.0</td>\n",
       "      <td>No</td>\n",
       "    </tr>\n",
       "    <tr>\n",
       "      <th>57412</th>\n",
       "      <td>0.043998</td>\n",
       "      <td>0.522843</td>\n",
       "      <td>0.430</td>\n",
       "      <td>0.636364</td>\n",
       "      <td>0.732405</td>\n",
       "      <td>1.0</td>\n",
       "      <td>0.038549</td>\n",
       "      <td>0.009739</td>\n",
       "      <td>0.000133</td>\n",
       "      <td>0.1290</td>\n",
       "      <td>0.104523</td>\n",
       "      <td>0.377381</td>\n",
       "      <td>0.8</td>\n",
       "      <td>1.0</td>\n",
       "      <td>1.0</td>\n",
       "      <td>Yes</td>\n",
       "    </tr>\n",
       "    <tr>\n",
       "      <th>2105</th>\n",
       "      <td>0.061420</td>\n",
       "      <td>0.601015</td>\n",
       "      <td>0.767</td>\n",
       "      <td>0.818182</td>\n",
       "      <td>0.864602</td>\n",
       "      <td>0.0</td>\n",
       "      <td>0.027979</td>\n",
       "      <td>0.002108</td>\n",
       "      <td>0.001650</td>\n",
       "      <td>0.1270</td>\n",
       "      <td>0.329648</td>\n",
       "      <td>0.396442</td>\n",
       "      <td>0.8</td>\n",
       "      <td>1.0</td>\n",
       "      <td>1.0</td>\n",
       "      <td>Yes</td>\n",
       "    </tr>\n",
       "    <tr>\n",
       "      <th>51000</th>\n",
       "      <td>0.032284</td>\n",
       "      <td>0.873096</td>\n",
       "      <td>0.541</td>\n",
       "      <td>0.090909</td>\n",
       "      <td>0.795757</td>\n",
       "      <td>0.0</td>\n",
       "      <td>0.033679</td>\n",
       "      <td>0.165663</td>\n",
       "      <td>0.163000</td>\n",
       "      <td>0.0663</td>\n",
       "      <td>0.956784</td>\n",
       "      <td>0.472462</td>\n",
       "      <td>0.8</td>\n",
       "      <td>1.0</td>\n",
       "      <td>1.0</td>\n",
       "      <td>Yes</td>\n",
       "    </tr>\n",
       "    <tr>\n",
       "      <th>...</th>\n",
       "      <td>...</td>\n",
       "      <td>...</td>\n",
       "      <td>...</td>\n",
       "      <td>...</td>\n",
       "      <td>...</td>\n",
       "      <td>...</td>\n",
       "      <td>...</td>\n",
       "      <td>...</td>\n",
       "      <td>...</td>\n",
       "      <td>...</td>\n",
       "      <td>...</td>\n",
       "      <td>...</td>\n",
       "      <td>...</td>\n",
       "      <td>...</td>\n",
       "      <td>...</td>\n",
       "      <td>...</td>\n",
       "    </tr>\n",
       "    <tr>\n",
       "      <th>30562</th>\n",
       "      <td>0.030111</td>\n",
       "      <td>0.745178</td>\n",
       "      <td>0.874</td>\n",
       "      <td>0.727273</td>\n",
       "      <td>0.857759</td>\n",
       "      <td>1.0</td>\n",
       "      <td>0.068601</td>\n",
       "      <td>0.168675</td>\n",
       "      <td>0.000011</td>\n",
       "      <td>0.0489</td>\n",
       "      <td>0.909548</td>\n",
       "      <td>0.505206</td>\n",
       "      <td>0.8</td>\n",
       "      <td>1.0</td>\n",
       "      <td>0.0</td>\n",
       "      <td>No</td>\n",
       "    </tr>\n",
       "    <tr>\n",
       "      <th>53075</th>\n",
       "      <td>0.027328</td>\n",
       "      <td>0.857868</td>\n",
       "      <td>0.797</td>\n",
       "      <td>0.090909</td>\n",
       "      <td>0.823983</td>\n",
       "      <td>1.0</td>\n",
       "      <td>0.144041</td>\n",
       "      <td>0.058434</td>\n",
       "      <td>0.000006</td>\n",
       "      <td>0.1670</td>\n",
       "      <td>0.424121</td>\n",
       "      <td>0.501229</td>\n",
       "      <td>0.8</td>\n",
       "      <td>1.0</td>\n",
       "      <td>1.0</td>\n",
       "      <td>Yes</td>\n",
       "    </tr>\n",
       "    <tr>\n",
       "      <th>91610</th>\n",
       "      <td>0.041293</td>\n",
       "      <td>0.559391</td>\n",
       "      <td>0.913</td>\n",
       "      <td>0.000000</td>\n",
       "      <td>0.841019</td>\n",
       "      <td>0.0</td>\n",
       "      <td>0.048290</td>\n",
       "      <td>0.026406</td>\n",
       "      <td>0.000013</td>\n",
       "      <td>0.3470</td>\n",
       "      <td>0.546734</td>\n",
       "      <td>0.493039</td>\n",
       "      <td>0.8</td>\n",
       "      <td>1.0</td>\n",
       "      <td>1.0</td>\n",
       "      <td>Yes</td>\n",
       "    </tr>\n",
       "    <tr>\n",
       "      <th>88407</th>\n",
       "      <td>0.044969</td>\n",
       "      <td>0.659898</td>\n",
       "      <td>0.715</td>\n",
       "      <td>0.454545</td>\n",
       "      <td>0.820025</td>\n",
       "      <td>0.0</td>\n",
       "      <td>0.262176</td>\n",
       "      <td>0.099699</td>\n",
       "      <td>0.000291</td>\n",
       "      <td>0.1260</td>\n",
       "      <td>0.187940</td>\n",
       "      <td>0.438308</td>\n",
       "      <td>0.8</td>\n",
       "      <td>1.0</td>\n",
       "      <td>1.0</td>\n",
       "      <td>Yes</td>\n",
       "    </tr>\n",
       "    <tr>\n",
       "      <th>68355</th>\n",
       "      <td>0.045394</td>\n",
       "      <td>0.816244</td>\n",
       "      <td>0.674</td>\n",
       "      <td>0.454545</td>\n",
       "      <td>0.815308</td>\n",
       "      <td>0.0</td>\n",
       "      <td>0.034508</td>\n",
       "      <td>0.295181</td>\n",
       "      <td>0.000001</td>\n",
       "      <td>0.1150</td>\n",
       "      <td>0.293467</td>\n",
       "      <td>0.410762</td>\n",
       "      <td>0.8</td>\n",
       "      <td>1.0</td>\n",
       "      <td>1.0</td>\n",
       "      <td>Yes</td>\n",
       "    </tr>\n",
       "  </tbody>\n",
       "</table>\n",
       "<p>237 rows × 16 columns</p>\n",
       "</div>"
      ],
      "text/plain": [
       "       duration_ms  danceability  energy       key  loudness  mode  \\\n",
       "68854     0.053064      0.825381   0.560  0.181818  0.806966   0.0   \n",
       "20367     0.031304      0.612183   0.691  0.454545  0.808797   1.0   \n",
       "57412     0.043998      0.522843   0.430  0.636364  0.732405   1.0   \n",
       "2105      0.061420      0.601015   0.767  0.818182  0.864602   0.0   \n",
       "51000     0.032284      0.873096   0.541  0.090909  0.795757   0.0   \n",
       "...            ...           ...     ...       ...       ...   ...   \n",
       "30562     0.030111      0.745178   0.874  0.727273  0.857759   1.0   \n",
       "53075     0.027328      0.857868   0.797  0.090909  0.823983   1.0   \n",
       "91610     0.041293      0.559391   0.913  0.000000  0.841019   0.0   \n",
       "88407     0.044969      0.659898   0.715  0.454545  0.820025   0.0   \n",
       "68355     0.045394      0.816244   0.674  0.454545  0.815308   0.0   \n",
       "\n",
       "       speechiness  acousticness  instrumentalness  liveness   valence  \\\n",
       "68854     0.064041      0.108434          0.000000    0.2680  0.288442   \n",
       "20367     0.038549      0.024900          0.000000    0.5830  0.579899   \n",
       "57412     0.038549      0.009739          0.000133    0.1290  0.104523   \n",
       "2105      0.027979      0.002108          0.001650    0.1270  0.329648   \n",
       "51000     0.033679      0.165663          0.163000    0.0663  0.956784   \n",
       "...            ...           ...               ...       ...       ...   \n",
       "30562     0.068601      0.168675          0.000011    0.0489  0.909548   \n",
       "53075     0.144041      0.058434          0.000006    0.1670  0.424121   \n",
       "91610     0.048290      0.026406          0.000013    0.3470  0.546734   \n",
       "88407     0.262176      0.099699          0.000291    0.1260  0.187940   \n",
       "68355     0.034508      0.295181          0.000001    0.1150  0.293467   \n",
       "\n",
       "          tempo  time_signature  pop_class  Predicted Correct?  \n",
       "68854  0.484990             0.8        1.0        0.0       No  \n",
       "20367  0.604622             0.8        1.0        0.0       No  \n",
       "57412  0.377381             0.8        1.0        1.0      Yes  \n",
       "2105   0.396442             0.8        1.0        1.0      Yes  \n",
       "51000  0.472462             0.8        1.0        1.0      Yes  \n",
       "...         ...             ...        ...        ...      ...  \n",
       "30562  0.505206             0.8        1.0        0.0       No  \n",
       "53075  0.501229             0.8        1.0        1.0      Yes  \n",
       "91610  0.493039             0.8        1.0        1.0      Yes  \n",
       "88407  0.438308             0.8        1.0        1.0      Yes  \n",
       "68355  0.410762             0.8        1.0        1.0      Yes  \n",
       "\n",
       "[237 rows x 16 columns]"
      ]
     },
     "execution_count": 76,
     "metadata": {},
     "output_type": "execute_result"
    }
   ],
   "source": [
    "df_test[df_test['pop_class'] == 1.0]"
   ]
  }
 ],
 "metadata": {
  "kernelspec": {
   "display_name": "Python 3 (ipykernel)",
   "language": "python",
   "name": "python3"
  },
  "language_info": {
   "codemirror_mode": {
    "name": "ipython",
    "version": 3
   },
   "file_extension": ".py",
   "mimetype": "text/x-python",
   "name": "python",
   "nbconvert_exporter": "python",
   "pygments_lexer": "ipython3",
   "version": "3.11.5"
  }
 },
 "nbformat": 4,
 "nbformat_minor": 5
}
